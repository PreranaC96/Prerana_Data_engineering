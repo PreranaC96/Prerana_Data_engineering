{
  "nbformat": 4,
  "nbformat_minor": 2,
  "metadata": {
    "language_info": {
      "name": "python"
    },
    "kernelspec": {
      "name": "synapse_pyspark",
      "display_name": "python"
    },
    "description": null,
    "save_output": true,
    "synapse_widget": {
      "version": "0.1",
      "state": {}
    }
  },
  "cells": [
    {
      "cell_type": "code",
      "execution_count": 26,
      "outputs": [
        {
          "output_type": "display_data",
          "data": {
            "application/vnd.livy.statement-meta+json": {
              "spark_pool": "preranasmall",
              "session_id": "42",
              "statement_id": 18,
              "state": "finished",
              "livy_statement_state": "available",
              "queued_time": "2024-02-22T22:16:34.025856Z",
              "session_start_time": null,
              "execution_start_time": "2024-02-22T22:16:34.1803802Z",
              "execution_finish_time": "2024-02-22T22:16:34.359088Z",
              "spark_jobs": null,
              "parent_msg_id": "905fbd4d-ba09-48ce-a275-abf9bdac3273"
            },
            "text/plain": "StatementMeta(preranasmall, 42, 18, Finished, Available)"
          },
          "metadata": {}
        }
      ],
      "metadata": {
        "jupyter": {
          "source_hidden": false,
          "outputs_hidden": false
        },
        "nteract": {
          "transient": {
            "deleting": false
          }
        }
      },
      "source": [
        "import pyspark\r\n",
        "from pyspark.sql import SparkSession\r\n",
        "# spark = SparkSession.builder \\\r\n",
        "#     .master('local') \\\r\n",
        "#     .appName('myAppName') \\\r\n",
        "#     .config('spark.executor.memory', '5gb') \\\r\n",
        "#     .config(\"spark.cores.max\", \"6\") \\\r\n",
        "#     .getOrCreate()"
      ]
    },
    {
      "cell_type": "code",
      "execution_count": 27,
      "outputs": [
        {
          "output_type": "display_data",
          "data": {
            "application/vnd.livy.statement-meta+json": {
              "spark_pool": "preranasmall",
              "session_id": "42",
              "statement_id": 19,
              "state": "finished",
              "livy_statement_state": "available",
              "queued_time": "2024-02-22T22:16:34.1207059Z",
              "session_start_time": null,
              "execution_start_time": "2024-02-22T22:16:34.5141991Z",
              "execution_finish_time": "2024-02-22T22:16:35.0408698Z",
              "spark_jobs": null,
              "parent_msg_id": "cfbc0185-9270-495e-811e-10d8df8988a1"
            },
            "text/plain": "StatementMeta(preranasmall, 42, 19, Finished, Available)"
          },
          "metadata": {}
        },
        {
          "output_type": "stream",
          "name": "stdout",
          "text": [
            "2024\n02\n22\n"
          ]
        }
      ],
      "metadata": {
        "jupyter": {
          "source_hidden": false,
          "outputs_hidden": false
        },
        "nteract": {
          "transient": {
            "deleting": false
          }
        }
      },
      "source": [
        "\r\n",
        "DF_Now = spark.sql(\"SELECT CAST(year(current_timestamp()) AS STRING) AS CurrentYear,CASE WHEN month(current_timestamp()) < 10 THEN CONCAT('0', CAST(month(current_timestamp()) AS STRING)) ELSE CAST(month(current_timestamp()) AS STRING) END AS  CurrentMonth,CASE WHEN day(current_timestamp()) < 10 THEN CONCAT('0', CAST(day(current_timestamp()) AS STRING)) ELSE CAST(day(current_timestamp()) AS STRING) END AS  Today\")\r\n",
        "\r\n",
        "CurrentYear = DF_Now[['CurrentYear']].toPandas().loc[0][0]\r\n",
        "\r\n",
        "CurrentMonth = DF_Now[['CurrentMonth']].toPandas().loc[0][0]\r\n",
        "\r\n",
        "Today = DF_Now[['Today']].toPandas().loc[0][0]\r\n",
        " \r\n",
        "print(CurrentYear)\r\n",
        " \r\n",
        "print(CurrentMonth)\r\n",
        "\r\n",
        "print(Today)"
      ]
    },
    {
      "cell_type": "code",
      "execution_count": 28,
      "outputs": [
        {
          "output_type": "display_data",
          "data": {
            "application/vnd.livy.statement-meta+json": {
              "spark_pool": "preranasmall",
              "session_id": "42",
              "statement_id": 20,
              "state": "finished",
              "livy_statement_state": "available",
              "queued_time": "2024-02-22T22:16:34.224115Z",
              "session_start_time": null,
              "execution_start_time": "2024-02-22T22:16:35.1731455Z",
              "execution_finish_time": "2024-02-22T22:16:35.6975331Z",
              "spark_jobs": null,
              "parent_msg_id": "af9d7123-deeb-4a2e-9daf-a9bd4ba911f0"
            },
            "text/plain": "StatementMeta(preranasmall, 42, 20, Finished, Available)"
          },
          "metadata": {}
        },
        {
          "output_type": "stream",
          "name": "stdout",
          "text": [
            "abfss://xyz@preranastorage007.dfs.core.windows.net/raw/Year=2024/Month=02/Day=22/\n"
          ]
        }
      ],
      "metadata": {
        "jupyter": {
          "source_hidden": false,
          "outputs_hidden": false
        },
        "nteract": {
          "transient": {
            "deleting": false
          }
        }
      },
      "source": [
        "#Set raw filepath\r\n",
        "RawContainerName = 'xyz'\r\n",
        "RawStorageAccountName ='preranastorage007'\r\n",
        "RawRelativePath = 'raw'\r\n",
        "\r\n",
        "RawADLSPath = 'abfss://%s@%s.dfs.core.windows.net/%s/' % (RawContainerName, RawStorageAccountName, RawRelativePath + \"/Year=\"+CurrentYear +\"/Month=\"+CurrentMonth + \"/Day=\"+ Today)\r\n",
        "\r\n",
        "print(RawADLSPath)\r\n",
        "\r\n",
        "#Read with basePath option\r\n",
        "DF_SourceRaw = spark.read.option(\"basePath\", RawADLSPath).parquet(RawADLSPath + \"/*.parquet\")\r\n",
        "\r\n",
        "# SourceRowCount = DF_SourceRaw.count()\r\n",
        "# print(SourceRowCount)\r\n",
        "\r\n",
        "# print(DF_SourceRaw)\r\n",
        ""
      ]
    },
    {
      "cell_type": "code",
      "execution_count": 29,
      "outputs": [
        {
          "output_type": "display_data",
          "data": {
            "application/vnd.livy.statement-meta+json": {
              "spark_pool": "preranasmall",
              "session_id": "42",
              "statement_id": 21,
              "state": "finished",
              "livy_statement_state": "available",
              "queued_time": "2024-02-22T22:16:34.4183771Z",
              "session_start_time": null,
              "execution_start_time": "2024-02-22T22:16:35.8419696Z",
              "execution_finish_time": "2024-02-22T22:16:35.9939407Z",
              "spark_jobs": null,
              "parent_msg_id": "1004b7cd-f5cd-4bbc-9538-61b03d7206b2"
            },
            "text/plain": "StatementMeta(preranasmall, 42, 21, Finished, Available)"
          },
          "metadata": {}
        }
      ],
      "metadata": {
        "jupyter": {
          "source_hidden": false,
          "outputs_hidden": false
        },
        "nteract": {
          "transient": {
            "deleting": false
          }
        }
      },
      "source": [
        "#print(DF_SourceRaw)\r\n",
        "#DF_SourceRaw.show(3)"
      ]
    },
    {
      "cell_type": "markdown",
      "metadata": {
        "nteract": {
          "transient": {
            "deleting": false
          }
        }
      },
      "source": [
        "For testing"
      ]
    },
    {
      "cell_type": "code",
      "execution_count": 30,
      "outputs": [
        {
          "output_type": "display_data",
          "data": {
            "application/vnd.livy.statement-meta+json": {
              "spark_pool": "preranasmall",
              "session_id": "42",
              "statement_id": 22,
              "state": "finished",
              "livy_statement_state": "available",
              "queued_time": "2024-02-22T22:16:34.7129904Z",
              "session_start_time": null,
              "execution_start_time": "2024-02-22T22:16:36.1414304Z",
              "execution_finish_time": "2024-02-22T22:16:36.2901764Z",
              "spark_jobs": null,
              "parent_msg_id": "438594e2-9aee-401b-85e3-1b0243a46d3a"
            },
            "text/plain": "StatementMeta(preranasmall, 42, 22, Finished, Available)"
          },
          "metadata": {}
        }
      ],
      "metadata": {
        "jupyter": {
          "source_hidden": false,
          "outputs_hidden": false
        },
        "nteract": {
          "transient": {
            "deleting": false
          }
        }
      },
      "source": [
        "# #country\r\n",
        "# df_dim_country = DF_SourceRaw.select(\"COUNTRY\", \"TERRITORY\")\r\n",
        "# #df_dim_country.show(3)\r\n",
        "\r\n",
        "# #df_dim_country_1 = df_dim_country.groupBy(\"COUNTRY\", \"TERRITORY\").count()\r\n",
        "# df_dim_country = df_dim_country.distinct()\r\n",
        "# df_dim_country.show()\r\n",
        "\r\n",
        "# df_dim_country.createOrReplaceTempView(\"DimCountry_Temp\")\r\n",
        "\r\n",
        "# sql_str=\"select COUNTRY, TERRITORY, ROW_NUMBER() OVER (ORDER BY COUNTRY) as Country_ID from DimCountry_Temp \" \r\n",
        "\r\n",
        "\r\n",
        "# df_dimCountry = spark.sql(sql_str)\r\n",
        "# df_dimCountry.show()\r\n",
        "\r\n",
        "\r\n",
        "# from pyspark.sql.functions import col\r\n",
        "\r\n",
        "# DF_SourceRaw = DF_SourceRaw.join(df_dimCountry, ((DF_SourceRaw.TERRITORY == df_dimCountry.TERRITORY) & (DF_SourceRaw.COUNTRY == df_dimCountry.COUNTRY)), \"leftouter\" )\\\r\n",
        "#     .select(DF_SourceRaw[\"*\"],col(\"Country_ID\"))\r\n",
        "\r\n",
        "# DF_SourceRaw.show(truncate=False)"
      ]
    },
    {
      "cell_type": "code",
      "execution_count": 31,
      "outputs": [
        {
          "output_type": "display_data",
          "data": {
            "application/vnd.livy.statement-meta+json": {
              "spark_pool": "preranasmall",
              "session_id": "42",
              "statement_id": 23,
              "state": "finished",
              "livy_statement_state": "available",
              "queued_time": "2024-02-22T22:16:35.039743Z",
              "session_start_time": null,
              "execution_start_time": "2024-02-22T22:16:36.4324596Z",
              "execution_finish_time": "2024-02-22T22:16:38.3045957Z",
              "spark_jobs": null,
              "parent_msg_id": "d623a249-35b0-46b6-9eb8-e96048173ccb"
            },
            "text/plain": "StatementMeta(preranasmall, 42, 23, Finished, Available)"
          },
          "metadata": {}
        },
        {
          "output_type": "stream",
          "name": "stdout",
          "text": [
            "+-----------+---------+\n|    COUNTRY|TERRITORY|\n+-----------+---------+\n|     Canada|       NA|\n|  Singapore|     APAC|\n|    Ireland|     EMEA|\n|      Spain|     EMEA|\n|      Italy|     EMEA|\n|  Australia|     APAC|\n|    Germany|     EMEA|\n|     France|     EMEA|\n|        USA|       NA|\n|    Belgium|     EMEA|\n|     Norway|     EMEA|\n|Philippines|    Japan|\n|    Finland|     EMEA|\n|         UK|     EMEA|\n|  Singapore|    Japan|\n|    Denmark|     EMEA|\n|     Sweden|     EMEA|\n|    Austria|     EMEA|\n|      Japan|    Japan|\n|Switzerland|     EMEA|\n+-----------+---------+\n\n+-----------+---------+--------------------+\n|    COUNTRY|TERRITORY|          Country_ID|\n+-----------+---------+--------------------+\n|     Canada|       NA|7051064e-d8c1-418...|\n|  Singapore|     APAC|6548a325-f0e7-42c...|\n|    Ireland|     EMEA|6fef9ddd-5985-416...|\n|      Spain|     EMEA|3d36b476-db36-41a...|\n|      Italy|     EMEA|fbf09888-5e06-4fd...|\n|  Australia|     APAC|3c89688b-38d1-4b6...|\n|    Germany|     EMEA|3bae29c0-6751-402...|\n|     France|     EMEA|7dd88d54-38c0-4d6...|\n|        USA|       NA|678cc574-e76f-41f...|\n|    Belgium|     EMEA|df6c3111-8e6b-48f...|\n|     Norway|     EMEA|41730263-f621-407...|\n|Philippines|    Japan|d15f7c3e-ace2-4a4...|\n|    Finland|     EMEA|7df51afa-1cd8-4cc...|\n|         UK|     EMEA|4b277c03-cc15-4be...|\n|  Singapore|    Japan|7a8a62b4-7e3e-434...|\n|    Denmark|     EMEA|62a33a90-a3f1-484...|\n|     Sweden|     EMEA|8f63801c-108b-47c...|\n|    Austria|     EMEA|062f73e9-e0bb-4b0...|\n|      Japan|    Japan|90abe80b-123b-4bc...|\n|Switzerland|     EMEA|361089e3-bd85-4a1...|\n+-----------+---------+--------------------+\n\n+-----------+---------------+---------+---------------+-------+----------------+-------+------+--------+-------+-----------+----+-----------+--------------------------+----------------+-----------------------------+------------+-------------+--------+----------+---------+---------+---------------+----------------+--------+----------------------------+------------------------------------+\n|ORDERNUMBER|QUANTITYORDERED|PRICEEACH|ORDERLINENUMBER|SALES  |ORDERDATE       |STATUS |QTR_ID|MONTH_ID|YEAR_ID|PRODUCTLINE|MSRP|PRODUCTCODE|CUSTOMERNAME              |PHONE           |ADDRESSLINE1                 |ADDRESSLINE2|CITY         |STATE   |POSTALCODE|COUNTRY  |TERRITORY|CONTACTLASTNAME|CONTACTFIRSTNAME|DEALSIZE|DateIngestedDateTime        |Country_ID                          |\n+-----------+---------------+---------+---------------+-------+----------------+-------+------+--------+-------+-----------+----+-----------+--------------------------+----------------+-----------------------------+------------+-------------+--------+----------+---------+---------+---------------+----------------+--------+----------------------------+------------------------------------+\n|10107.0    |30.0           |95.7     |2.0            |2871.0 |2/24/2003 0:00  |Shipped|1.0   |2.0     |2003.0 |Motorcycles|95.0|S10_1678   |Land of Toys Inc.         |2125557818      |897 Long Airport Avenue      |null        |NYC          |NY      |10022.0   |USA      |NA       |Yu             |Kwai            |Small   |2024-02-22T20:17:05.3635446Z|678cc574-e76f-41f6-8e3d-48777b689e30|\n|10121.0    |34.0           |81.35    |5.0            |2765.9 |05/07/2003 00:00|Shipped|2.0   |5.0     |2003.0 |Motorcycles|95.0|S10_1678   |Reims Collectables        |26.47.1555      |59 rue de l'Abbaye           |null        |Reims        |null    |51100.0   |France   |EMEA     |Henriot        |Paul            |Small   |2024-02-22T20:17:05.3635446Z|7dd88d54-38c0-4d6f-baad-7bd14c695715|\n|10134.0    |41.0           |94.74    |2.0            |3884.34|07/01/2003 00:00|Shipped|3.0   |7.0     |2003.0 |Motorcycles|95.0|S10_1678   |Lyon Souveniers           |+33 1 46 62 7555|27 rue du Colonel Pierre Avia|null        |Paris        |null    |75508.0   |France   |EMEA     |Da Cunha       |Daniel          |Medium  |2024-02-22T20:17:05.3635446Z|7dd88d54-38c0-4d6f-baad-7bd14c695715|\n|10145.0    |45.0           |83.26    |6.0            |3746.7 |8/25/2003 0:00  |Shipped|3.0   |8.0     |2003.0 |Motorcycles|95.0|S10_1678   |Toys4GrownUps.com         |6265557265      |78934 Hillside Dr.           |null        |Pasadena     |CA      |90003.0   |USA      |NA       |Young          |Julie           |Medium  |2024-02-22T20:17:05.3635446Z|678cc574-e76f-41f6-8e3d-48777b689e30|\n|10159.0    |49.0           |100.0    |14.0           |5205.27|10/10/2003 00:00|Shipped|4.0   |10.0    |2003.0 |Motorcycles|95.0|S10_1678   |Corporate Gift Ideas Co.  |6505551386      |7734 Strong St.              |null        |San Francisco|CA      |null      |USA      |NA       |Brown          |Julie           |Medium  |2024-02-22T20:17:05.3635446Z|678cc574-e76f-41f6-8e3d-48777b689e30|\n|10168.0    |36.0           |96.66    |1.0            |3479.76|10/28/2003 0:00 |Shipped|4.0   |10.0    |2003.0 |Motorcycles|95.0|S10_1678   |Technics Stores Inc.      |6505556809      |9408 Furth Circle            |null        |Burlingame   |CA      |94217.0   |USA      |NA       |Hirano         |Juri            |Medium  |2024-02-22T20:17:05.3635446Z|678cc574-e76f-41f6-8e3d-48777b689e30|\n|10180.0    |29.0           |86.13    |9.0            |2497.77|11/11/2003 00:00|Shipped|4.0   |11.0    |2003.0 |Motorcycles|95.0|S10_1678   |Daedalus Designs Imports  |20.16.1555      |184, chausse de Tournai      |null        |Lille        |null    |59000.0   |France   |EMEA     |Rance          |Martine         |Small   |2024-02-22T20:17:05.3635446Z|7dd88d54-38c0-4d6f-baad-7bd14c695715|\n|10188.0    |48.0           |100.0    |1.0            |5512.32|11/18/2003 0:00 |Shipped|4.0   |11.0    |2003.0 |Motorcycles|95.0|S10_1678   |Herkku Gifts              |+47 2267 3215   |Drammen 121, PR 744 Sentrum  |null        |Bergen       |null    |null      |Norway   |EMEA     |Oeztan         |Veysel          |Medium  |2024-02-22T20:17:05.3635446Z|41730263-f621-407f-9898-7bf66a576c61|\n|10201.0    |22.0           |98.57    |2.0            |2168.54|12/01/2003 00:00|Shipped|4.0   |12.0    |2003.0 |Motorcycles|95.0|S10_1678   |Mini Wheels Co.           |6505555787      |5557 North Pendale Street    |null        |San Francisco|CA      |null      |USA      |NA       |Murphy         |Julie           |Small   |2024-02-22T20:17:05.3635446Z|678cc574-e76f-41f6-8e3d-48777b689e30|\n|10211.0    |41.0           |100.0    |14.0           |4708.44|1/15/2004 0:00  |Shipped|1.0   |1.0     |2004.0 |Motorcycles|95.0|S10_1678   |Auto Canal Petit          |(1) 47.55.6555  |25, rue Lauriston            |null        |Paris        |null    |75016.0   |France   |EMEA     |Perrier        |Dominique       |Medium  |2024-02-22T20:17:05.3635446Z|7dd88d54-38c0-4d6f-baad-7bd14c695715|\n|10223.0    |37.0           |100.0    |1.0            |3965.66|2/20/2004 0:00  |Shipped|1.0   |2.0     |2004.0 |Motorcycles|95.0|S10_1678   |Australian Collectors, Co.|03 9520 4555    |636 St Kilda Road            |Level 3     |Melbourne    |Victoria|3004.0    |Australia|APAC     |Ferguson       |Peter           |Medium  |2024-02-22T20:17:05.3635446Z|3c89688b-38d1-4b6d-85f5-ae43aab4205b|\n|10237.0    |23.0           |100.0    |7.0            |2333.12|04/05/2004 00:00|Shipped|2.0   |4.0     |2004.0 |Motorcycles|95.0|S10_1678   |Vitachrome Inc.           |2125551500      |2678 Kingston Rd.            |Suite 101   |NYC          |NY      |10022.0   |USA      |NA       |Frick          |Michael         |Small   |2024-02-22T20:17:05.3635446Z|678cc574-e76f-41f6-8e3d-48777b689e30|\n|10251.0    |28.0           |100.0    |2.0            |3188.64|5/18/2004 0:00  |Shipped|2.0   |5.0     |2004.0 |Motorcycles|95.0|S10_1678   |Tekni Collectables Inc.   |2015559350      |7476 Moss Rd.                |null        |Newark       |NJ      |94019.0   |USA      |NA       |Brown          |William         |Medium  |2024-02-22T20:17:05.3635446Z|678cc574-e76f-41f6-8e3d-48777b689e30|\n|10263.0    |34.0           |100.0    |2.0            |3676.76|6/28/2004 0:00  |Shipped|2.0   |6.0     |2004.0 |Motorcycles|95.0|S10_1678   |Gift Depot Inc.           |2035552570      |25593 South Bay Ln.          |null        |Bridgewater  |CT      |97562.0   |USA      |NA       |King           |Julie           |Medium  |2024-02-22T20:17:05.3635446Z|678cc574-e76f-41f6-8e3d-48777b689e30|\n|10275.0    |45.0           |92.83    |1.0            |4177.35|7/23/2004 0:00  |Shipped|3.0   |7.0     |2004.0 |Motorcycles|95.0|S10_1678   |La Rochelle Gifts         |40.67.8555      |67, rue des Cinquante Otages |null        |Nantes       |null    |44000.0   |France   |EMEA     |Labrune        |Janine          |Medium  |2024-02-22T20:17:05.3635446Z|7dd88d54-38c0-4d6f-baad-7bd14c695715|\n|10285.0    |36.0           |100.0    |6.0            |4099.68|8/27/2004 0:00  |Shipped|3.0   |8.0     |2004.0 |Motorcycles|95.0|S10_1678   |Marta's Replicas Co.      |6175558555      |39323 Spinnaker Dr.          |null        |Cambridge    |MA      |51247.0   |USA      |NA       |Hernandez      |Marta           |Medium  |2024-02-22T20:17:05.3635446Z|678cc574-e76f-41f6-8e3d-48777b689e30|\n|10299.0    |23.0           |100.0    |9.0            |2597.39|9/30/2004 0:00  |Shipped|3.0   |9.0     |2004.0 |Motorcycles|95.0|S10_1678   |Toys of Finland, Co.      |90-224 8555     |Keskuskatu 45                |null        |Helsinki     |null    |21240.0   |Finland  |EMEA     |Karttunen      |Matti           |Small   |2024-02-22T20:17:05.3635446Z|7df51afa-1cd8-4ccd-9f58-da73d9bc8aa8|\n|10309.0    |41.0           |100.0    |5.0            |4394.38|10/15/2004 0:00 |Shipped|4.0   |10.0    |2004.0 |Motorcycles|95.0|S10_1678   |Baane Mini Imports        |07-98 9555      |Erling Skakkes gate 78       |null        |Stavern      |null    |4110.0    |Norway   |EMEA     |Bergulfsen     |Jonas           |Medium  |2024-02-22T20:17:05.3635446Z|41730263-f621-407f-9898-7bf66a576c61|\n|10318.0    |46.0           |94.74    |1.0            |4358.04|11/02/2004 00:00|Shipped|4.0   |11.0    |2004.0 |Motorcycles|95.0|S10_1678   |Diecast Classics Inc.     |2155551555      |7586 Pompton St.             |null        |Allentown    |PA      |70267.0   |USA      |NA       |Yu             |Kyung           |Medium  |2024-02-22T20:17:05.3635446Z|678cc574-e76f-41f6-8e3d-48777b689e30|\n|10329.0    |42.0           |100.0    |1.0            |4396.14|11/15/2004 0:00 |Shipped|4.0   |11.0    |2004.0 |Motorcycles|95.0|S10_1678   |Land of Toys Inc.         |2125557818      |897 Long Airport Avenue      |null        |NYC          |NY      |10022.0   |USA      |NA       |Yu             |Kwai            |Medium  |2024-02-22T20:17:05.3635446Z|678cc574-e76f-41f6-8e3d-48777b689e30|\n+-----------+---------------+---------+---------------+-------+----------------+-------+------+--------+-------+-----------+----+-----------+--------------------------+----------------+-----------------------------+------------+-------------+--------+----------+---------+---------+---------------+----------------+--------+----------------------------+------------------------------------+\nonly showing top 20 rows\n\n"
          ]
        }
      ],
      "metadata": {
        "jupyter": {
          "source_hidden": false,
          "outputs_hidden": false
        },
        "nteract": {
          "transient": {
            "deleting": false
          }
        }
      },
      "source": [
        "#country\r\n",
        "df_dim_country = DF_SourceRaw.select(\"COUNTRY\", \"TERRITORY\")\r\n",
        "#df_dim_country.show(3)\r\n",
        "\r\n",
        "#df_dim_country_1 = df_dim_country.groupBy(\"COUNTRY\", \"TERRITORY\").count()\r\n",
        "df_dim_country = df_dim_country.distinct()\r\n",
        "df_dim_country.show()\r\n",
        "\r\n",
        "df_dim_country.createOrReplaceTempView(\"DimCountry_Temp\")\r\n",
        "\r\n",
        "sql_str=\"select COUNTRY, TERRITORY, uuid()  as Country_ID from DimCountry_Temp \" \r\n",
        "\r\n",
        "\r\n",
        "df_dimCountry = spark.sql(sql_str)\r\n",
        "df_dimCountry.show()\r\n",
        "\r\n",
        "\r\n",
        "from pyspark.sql.functions import col\r\n",
        "\r\n",
        "DF_SourceRaw = DF_SourceRaw.join(df_dimCountry, ((DF_SourceRaw.TERRITORY == df_dimCountry.TERRITORY) & (DF_SourceRaw.COUNTRY == df_dimCountry.COUNTRY)), \"leftouter\" )\\\r\n",
        "    .select(DF_SourceRaw[\"*\"],col(\"Country_ID\"))\r\n",
        "\r\n",
        "DF_SourceRaw.show(truncate=False)"
      ]
    },
    {
      "cell_type": "markdown",
      "metadata": {
        "nteract": {
          "transient": {
            "deleting": false
          }
        }
      },
      "source": []
    },
    {
      "cell_type": "code",
      "execution_count": 32,
      "outputs": [
        {
          "output_type": "display_data",
          "data": {
            "application/vnd.livy.statement-meta+json": {
              "spark_pool": "preranasmall",
              "session_id": "42",
              "statement_id": 24,
              "state": "finished",
              "livy_statement_state": "available",
              "queued_time": "2024-02-22T22:16:35.1757945Z",
              "session_start_time": null,
              "execution_start_time": "2024-02-22T22:16:38.4417531Z",
              "execution_finish_time": "2024-02-22T22:16:41.277843Z",
              "spark_jobs": null,
              "parent_msg_id": "73736a76-45fe-4199-9ca0-66bd6ce8ab21"
            },
            "text/plain": "StatementMeta(preranasmall, 42, 24, Finished, Available)"
          },
          "metadata": {}
        },
        {
          "output_type": "stream",
          "name": "stdout",
          "text": [
            "+----------+\n|    STATUS|\n+----------+\n|   Shipped|\n|   On Hold|\n| Cancelled|\n|  Resolved|\n|In Process|\n|  Disputed|\n+----------+\n\n+----------+--------------------+\n|    STATUS|           Status_ID|\n+----------+--------------------+\n|   Shipped|32ec41e1-8a79-43c...|\n|   On Hold|9d0e360c-63da-47c...|\n| Cancelled|22e962e8-d885-4a5...|\n|  Resolved|3fa9b352-1c69-439...|\n|In Process|56f2db35-0cb6-405...|\n|  Disputed|b402b910-22bd-432...|\n+----------+--------------------+\n\n+-----------+---------------+---------+---------------+-------+----------------+-------+------+--------+-------+-----------+----+-----------+--------------------------+----------------+-----------------------------+------------+-------------+--------+----------+---------+---------+---------------+----------------+--------+----------------------------+------------------------------------+------------------------------------+\n|ORDERNUMBER|QUANTITYORDERED|PRICEEACH|ORDERLINENUMBER|SALES  |ORDERDATE       |STATUS |QTR_ID|MONTH_ID|YEAR_ID|PRODUCTLINE|MSRP|PRODUCTCODE|CUSTOMERNAME              |PHONE           |ADDRESSLINE1                 |ADDRESSLINE2|CITY         |STATE   |POSTALCODE|COUNTRY  |TERRITORY|CONTACTLASTNAME|CONTACTFIRSTNAME|DEALSIZE|DateIngestedDateTime        |Country_ID                          |Status_ID                           |\n+-----------+---------------+---------+---------------+-------+----------------+-------+------+--------+-------+-----------+----+-----------+--------------------------+----------------+-----------------------------+------------+-------------+--------+----------+---------+---------+---------------+----------------+--------+----------------------------+------------------------------------+------------------------------------+\n|10107.0    |30.0           |95.7     |2.0            |2871.0 |2/24/2003 0:00  |Shipped|1.0   |2.0     |2003.0 |Motorcycles|95.0|S10_1678   |Land of Toys Inc.         |2125557818      |897 Long Airport Avenue      |null        |NYC          |NY      |10022.0   |USA      |NA       |Yu             |Kwai            |Small   |2024-02-22T20:17:05.3635446Z|678cc574-e76f-41f6-8e3d-48777b689e30|32ec41e1-8a79-43c8-9951-a1410f89358b|\n|10121.0    |34.0           |81.35    |5.0            |2765.9 |05/07/2003 00:00|Shipped|2.0   |5.0     |2003.0 |Motorcycles|95.0|S10_1678   |Reims Collectables        |26.47.1555      |59 rue de l'Abbaye           |null        |Reims        |null    |51100.0   |France   |EMEA     |Henriot        |Paul            |Small   |2024-02-22T20:17:05.3635446Z|7dd88d54-38c0-4d6f-baad-7bd14c695715|32ec41e1-8a79-43c8-9951-a1410f89358b|\n|10134.0    |41.0           |94.74    |2.0            |3884.34|07/01/2003 00:00|Shipped|3.0   |7.0     |2003.0 |Motorcycles|95.0|S10_1678   |Lyon Souveniers           |+33 1 46 62 7555|27 rue du Colonel Pierre Avia|null        |Paris        |null    |75508.0   |France   |EMEA     |Da Cunha       |Daniel          |Medium  |2024-02-22T20:17:05.3635446Z|7dd88d54-38c0-4d6f-baad-7bd14c695715|32ec41e1-8a79-43c8-9951-a1410f89358b|\n|10145.0    |45.0           |83.26    |6.0            |3746.7 |8/25/2003 0:00  |Shipped|3.0   |8.0     |2003.0 |Motorcycles|95.0|S10_1678   |Toys4GrownUps.com         |6265557265      |78934 Hillside Dr.           |null        |Pasadena     |CA      |90003.0   |USA      |NA       |Young          |Julie           |Medium  |2024-02-22T20:17:05.3635446Z|678cc574-e76f-41f6-8e3d-48777b689e30|32ec41e1-8a79-43c8-9951-a1410f89358b|\n|10159.0    |49.0           |100.0    |14.0           |5205.27|10/10/2003 00:00|Shipped|4.0   |10.0    |2003.0 |Motorcycles|95.0|S10_1678   |Corporate Gift Ideas Co.  |6505551386      |7734 Strong St.              |null        |San Francisco|CA      |null      |USA      |NA       |Brown          |Julie           |Medium  |2024-02-22T20:17:05.3635446Z|678cc574-e76f-41f6-8e3d-48777b689e30|32ec41e1-8a79-43c8-9951-a1410f89358b|\n|10168.0    |36.0           |96.66    |1.0            |3479.76|10/28/2003 0:00 |Shipped|4.0   |10.0    |2003.0 |Motorcycles|95.0|S10_1678   |Technics Stores Inc.      |6505556809      |9408 Furth Circle            |null        |Burlingame   |CA      |94217.0   |USA      |NA       |Hirano         |Juri            |Medium  |2024-02-22T20:17:05.3635446Z|678cc574-e76f-41f6-8e3d-48777b689e30|32ec41e1-8a79-43c8-9951-a1410f89358b|\n|10180.0    |29.0           |86.13    |9.0            |2497.77|11/11/2003 00:00|Shipped|4.0   |11.0    |2003.0 |Motorcycles|95.0|S10_1678   |Daedalus Designs Imports  |20.16.1555      |184, chausse de Tournai      |null        |Lille        |null    |59000.0   |France   |EMEA     |Rance          |Martine         |Small   |2024-02-22T20:17:05.3635446Z|7dd88d54-38c0-4d6f-baad-7bd14c695715|32ec41e1-8a79-43c8-9951-a1410f89358b|\n|10188.0    |48.0           |100.0    |1.0            |5512.32|11/18/2003 0:00 |Shipped|4.0   |11.0    |2003.0 |Motorcycles|95.0|S10_1678   |Herkku Gifts              |+47 2267 3215   |Drammen 121, PR 744 Sentrum  |null        |Bergen       |null    |null      |Norway   |EMEA     |Oeztan         |Veysel          |Medium  |2024-02-22T20:17:05.3635446Z|41730263-f621-407f-9898-7bf66a576c61|32ec41e1-8a79-43c8-9951-a1410f89358b|\n|10201.0    |22.0           |98.57    |2.0            |2168.54|12/01/2003 00:00|Shipped|4.0   |12.0    |2003.0 |Motorcycles|95.0|S10_1678   |Mini Wheels Co.           |6505555787      |5557 North Pendale Street    |null        |San Francisco|CA      |null      |USA      |NA       |Murphy         |Julie           |Small   |2024-02-22T20:17:05.3635446Z|678cc574-e76f-41f6-8e3d-48777b689e30|32ec41e1-8a79-43c8-9951-a1410f89358b|\n|10211.0    |41.0           |100.0    |14.0           |4708.44|1/15/2004 0:00  |Shipped|1.0   |1.0     |2004.0 |Motorcycles|95.0|S10_1678   |Auto Canal Petit          |(1) 47.55.6555  |25, rue Lauriston            |null        |Paris        |null    |75016.0   |France   |EMEA     |Perrier        |Dominique       |Medium  |2024-02-22T20:17:05.3635446Z|7dd88d54-38c0-4d6f-baad-7bd14c695715|32ec41e1-8a79-43c8-9951-a1410f89358b|\n|10223.0    |37.0           |100.0    |1.0            |3965.66|2/20/2004 0:00  |Shipped|1.0   |2.0     |2004.0 |Motorcycles|95.0|S10_1678   |Australian Collectors, Co.|03 9520 4555    |636 St Kilda Road            |Level 3     |Melbourne    |Victoria|3004.0    |Australia|APAC     |Ferguson       |Peter           |Medium  |2024-02-22T20:17:05.3635446Z|3c89688b-38d1-4b6d-85f5-ae43aab4205b|32ec41e1-8a79-43c8-9951-a1410f89358b|\n|10237.0    |23.0           |100.0    |7.0            |2333.12|04/05/2004 00:00|Shipped|2.0   |4.0     |2004.0 |Motorcycles|95.0|S10_1678   |Vitachrome Inc.           |2125551500      |2678 Kingston Rd.            |Suite 101   |NYC          |NY      |10022.0   |USA      |NA       |Frick          |Michael         |Small   |2024-02-22T20:17:05.3635446Z|678cc574-e76f-41f6-8e3d-48777b689e30|32ec41e1-8a79-43c8-9951-a1410f89358b|\n|10251.0    |28.0           |100.0    |2.0            |3188.64|5/18/2004 0:00  |Shipped|2.0   |5.0     |2004.0 |Motorcycles|95.0|S10_1678   |Tekni Collectables Inc.   |2015559350      |7476 Moss Rd.                |null        |Newark       |NJ      |94019.0   |USA      |NA       |Brown          |William         |Medium  |2024-02-22T20:17:05.3635446Z|678cc574-e76f-41f6-8e3d-48777b689e30|32ec41e1-8a79-43c8-9951-a1410f89358b|\n|10263.0    |34.0           |100.0    |2.0            |3676.76|6/28/2004 0:00  |Shipped|2.0   |6.0     |2004.0 |Motorcycles|95.0|S10_1678   |Gift Depot Inc.           |2035552570      |25593 South Bay Ln.          |null        |Bridgewater  |CT      |97562.0   |USA      |NA       |King           |Julie           |Medium  |2024-02-22T20:17:05.3635446Z|678cc574-e76f-41f6-8e3d-48777b689e30|32ec41e1-8a79-43c8-9951-a1410f89358b|\n|10275.0    |45.0           |92.83    |1.0            |4177.35|7/23/2004 0:00  |Shipped|3.0   |7.0     |2004.0 |Motorcycles|95.0|S10_1678   |La Rochelle Gifts         |40.67.8555      |67, rue des Cinquante Otages |null        |Nantes       |null    |44000.0   |France   |EMEA     |Labrune        |Janine          |Medium  |2024-02-22T20:17:05.3635446Z|7dd88d54-38c0-4d6f-baad-7bd14c695715|32ec41e1-8a79-43c8-9951-a1410f89358b|\n|10285.0    |36.0           |100.0    |6.0            |4099.68|8/27/2004 0:00  |Shipped|3.0   |8.0     |2004.0 |Motorcycles|95.0|S10_1678   |Marta's Replicas Co.      |6175558555      |39323 Spinnaker Dr.          |null        |Cambridge    |MA      |51247.0   |USA      |NA       |Hernandez      |Marta           |Medium  |2024-02-22T20:17:05.3635446Z|678cc574-e76f-41f6-8e3d-48777b689e30|32ec41e1-8a79-43c8-9951-a1410f89358b|\n|10299.0    |23.0           |100.0    |9.0            |2597.39|9/30/2004 0:00  |Shipped|3.0   |9.0     |2004.0 |Motorcycles|95.0|S10_1678   |Toys of Finland, Co.      |90-224 8555     |Keskuskatu 45                |null        |Helsinki     |null    |21240.0   |Finland  |EMEA     |Karttunen      |Matti           |Small   |2024-02-22T20:17:05.3635446Z|7df51afa-1cd8-4ccd-9f58-da73d9bc8aa8|32ec41e1-8a79-43c8-9951-a1410f89358b|\n|10309.0    |41.0           |100.0    |5.0            |4394.38|10/15/2004 0:00 |Shipped|4.0   |10.0    |2004.0 |Motorcycles|95.0|S10_1678   |Baane Mini Imports        |07-98 9555      |Erling Skakkes gate 78       |null        |Stavern      |null    |4110.0    |Norway   |EMEA     |Bergulfsen     |Jonas           |Medium  |2024-02-22T20:17:05.3635446Z|41730263-f621-407f-9898-7bf66a576c61|32ec41e1-8a79-43c8-9951-a1410f89358b|\n|10318.0    |46.0           |94.74    |1.0            |4358.04|11/02/2004 00:00|Shipped|4.0   |11.0    |2004.0 |Motorcycles|95.0|S10_1678   |Diecast Classics Inc.     |2155551555      |7586 Pompton St.             |null        |Allentown    |PA      |70267.0   |USA      |NA       |Yu             |Kyung           |Medium  |2024-02-22T20:17:05.3635446Z|678cc574-e76f-41f6-8e3d-48777b689e30|32ec41e1-8a79-43c8-9951-a1410f89358b|\n|10329.0    |42.0           |100.0    |1.0            |4396.14|11/15/2004 0:00 |Shipped|4.0   |11.0    |2004.0 |Motorcycles|95.0|S10_1678   |Land of Toys Inc.         |2125557818      |897 Long Airport Avenue      |null        |NYC          |NY      |10022.0   |USA      |NA       |Yu             |Kwai            |Medium  |2024-02-22T20:17:05.3635446Z|678cc574-e76f-41f6-8e3d-48777b689e30|32ec41e1-8a79-43c8-9951-a1410f89358b|\n+-----------+---------------+---------+---------------+-------+----------------+-------+------+--------+-------+-----------+----+-----------+--------------------------+----------------+-----------------------------+------------+-------------+--------+----------+---------+---------+---------------+----------------+--------+----------------------------+------------------------------------+------------------------------------+\nonly showing top 20 rows\n\n"
          ]
        }
      ],
      "metadata": {
        "jupyter": {
          "source_hidden": false,
          "outputs_hidden": false
        },
        "nteract": {
          "transient": {
            "deleting": false
          }
        }
      },
      "source": [
        "#STATUS \r\n",
        "df_dim_STATUS = DF_SourceRaw.select(\"STATUS\")\r\n",
        "#df_dim_STATUS.show(3)\r\n",
        "\r\n",
        "df_dim_STATUS = df_dim_STATUS.distinct()\r\n",
        "df_dim_STATUS.show()\r\n",
        "\r\n",
        "df_dim_STATUS.createOrReplaceTempView(\"DimStatus_Temp\")\r\n",
        "\r\n",
        "sql_str=\"select STATUS, uuid() as Status_ID from DimStatus_Temp \" \r\n",
        "\r\n",
        "\r\n",
        "df_dim_STATUS = spark.sql(sql_str)\r\n",
        "df_dim_STATUS.show()\r\n",
        "\r\n",
        "\r\n",
        "from pyspark.sql.functions import col\r\n",
        "\r\n",
        "DF_SourceRaw = DF_SourceRaw.join(df_dim_STATUS, (DF_SourceRaw.STATUS == df_dim_STATUS.STATUS),\"leftouter\" )\\\r\n",
        "    .select(DF_SourceRaw[\"*\"],col(\"Status_ID\"))\r\n",
        "    \r\n",
        "DF_SourceRaw.show(truncate=False)"
      ]
    },
    {
      "cell_type": "code",
      "execution_count": 33,
      "outputs": [
        {
          "output_type": "display_data",
          "data": {
            "application/vnd.livy.statement-meta+json": {
              "spark_pool": "preranasmall",
              "session_id": "42",
              "statement_id": 25,
              "state": "finished",
              "livy_statement_state": "available",
              "queued_time": "2024-02-22T22:16:35.3173251Z",
              "session_start_time": null,
              "execution_start_time": "2024-02-22T22:16:41.425981Z",
              "execution_finish_time": "2024-02-22T22:16:44.2286246Z",
              "spark_jobs": null,
              "parent_msg_id": "2ebd12ad-1cb5-41dd-97ed-890521738baa"
            },
            "text/plain": "StatementMeta(preranasmall, 42, 25, Finished, Available)"
          },
          "metadata": {}
        },
        {
          "output_type": "stream",
          "name": "stdout",
          "text": [
            "+--------+\n|DEALSIZE|\n+--------+\n|  Medium|\n|   Small|\n|   Large|\n+--------+\n\n+--------+--------------------+\n|DEALSIZE|         DEALSIZE_ID|\n+--------+--------------------+\n|  Medium|4b08593c-fdae-476...|\n|   Small|b0701106-15e6-483...|\n|   Large|037f7df5-80e2-4dc...|\n+--------+--------------------+\n\n+-----------+---------------+---------+---------------+-------+----------------+-------+------+--------+-------+-----------+----+-----------+--------------------------+----------------+-----------------------------+------------+-------------+--------+----------+---------+---------+---------------+----------------+--------+----------------------------+------------------------------------+------------------------------------+------------------------------------+\n|ORDERNUMBER|QUANTITYORDERED|PRICEEACH|ORDERLINENUMBER|SALES  |ORDERDATE       |STATUS |QTR_ID|MONTH_ID|YEAR_ID|PRODUCTLINE|MSRP|PRODUCTCODE|CUSTOMERNAME              |PHONE           |ADDRESSLINE1                 |ADDRESSLINE2|CITY         |STATE   |POSTALCODE|COUNTRY  |TERRITORY|CONTACTLASTNAME|CONTACTFIRSTNAME|DEALSIZE|DateIngestedDateTime        |Country_ID                          |Status_ID                           |DEALSIZE_ID                         |\n+-----------+---------------+---------+---------------+-------+----------------+-------+------+--------+-------+-----------+----+-----------+--------------------------+----------------+-----------------------------+------------+-------------+--------+----------+---------+---------+---------------+----------------+--------+----------------------------+------------------------------------+------------------------------------+------------------------------------+\n|10107.0    |30.0           |95.7     |2.0            |2871.0 |2/24/2003 0:00  |Shipped|1.0   |2.0     |2003.0 |Motorcycles|95.0|S10_1678   |Land of Toys Inc.         |2125557818      |897 Long Airport Avenue      |null        |NYC          |NY      |10022.0   |USA      |NA       |Yu             |Kwai            |Small   |2024-02-22T20:17:05.3635446Z|678cc574-e76f-41f6-8e3d-48777b689e30|32ec41e1-8a79-43c8-9951-a1410f89358b|b0701106-15e6-4839-98ef-1aed8c4b0fe3|\n|10121.0    |34.0           |81.35    |5.0            |2765.9 |05/07/2003 00:00|Shipped|2.0   |5.0     |2003.0 |Motorcycles|95.0|S10_1678   |Reims Collectables        |26.47.1555      |59 rue de l'Abbaye           |null        |Reims        |null    |51100.0   |France   |EMEA     |Henriot        |Paul            |Small   |2024-02-22T20:17:05.3635446Z|7dd88d54-38c0-4d6f-baad-7bd14c695715|32ec41e1-8a79-43c8-9951-a1410f89358b|b0701106-15e6-4839-98ef-1aed8c4b0fe3|\n|10134.0    |41.0           |94.74    |2.0            |3884.34|07/01/2003 00:00|Shipped|3.0   |7.0     |2003.0 |Motorcycles|95.0|S10_1678   |Lyon Souveniers           |+33 1 46 62 7555|27 rue du Colonel Pierre Avia|null        |Paris        |null    |75508.0   |France   |EMEA     |Da Cunha       |Daniel          |Medium  |2024-02-22T20:17:05.3635446Z|7dd88d54-38c0-4d6f-baad-7bd14c695715|32ec41e1-8a79-43c8-9951-a1410f89358b|4b08593c-fdae-476b-bce0-f8e3c078ba37|\n|10145.0    |45.0           |83.26    |6.0            |3746.7 |8/25/2003 0:00  |Shipped|3.0   |8.0     |2003.0 |Motorcycles|95.0|S10_1678   |Toys4GrownUps.com         |6265557265      |78934 Hillside Dr.           |null        |Pasadena     |CA      |90003.0   |USA      |NA       |Young          |Julie           |Medium  |2024-02-22T20:17:05.3635446Z|678cc574-e76f-41f6-8e3d-48777b689e30|32ec41e1-8a79-43c8-9951-a1410f89358b|4b08593c-fdae-476b-bce0-f8e3c078ba37|\n|10159.0    |49.0           |100.0    |14.0           |5205.27|10/10/2003 00:00|Shipped|4.0   |10.0    |2003.0 |Motorcycles|95.0|S10_1678   |Corporate Gift Ideas Co.  |6505551386      |7734 Strong St.              |null        |San Francisco|CA      |null      |USA      |NA       |Brown          |Julie           |Medium  |2024-02-22T20:17:05.3635446Z|678cc574-e76f-41f6-8e3d-48777b689e30|32ec41e1-8a79-43c8-9951-a1410f89358b|4b08593c-fdae-476b-bce0-f8e3c078ba37|\n|10168.0    |36.0           |96.66    |1.0            |3479.76|10/28/2003 0:00 |Shipped|4.0   |10.0    |2003.0 |Motorcycles|95.0|S10_1678   |Technics Stores Inc.      |6505556809      |9408 Furth Circle            |null        |Burlingame   |CA      |94217.0   |USA      |NA       |Hirano         |Juri            |Medium  |2024-02-22T20:17:05.3635446Z|678cc574-e76f-41f6-8e3d-48777b689e30|32ec41e1-8a79-43c8-9951-a1410f89358b|4b08593c-fdae-476b-bce0-f8e3c078ba37|\n|10180.0    |29.0           |86.13    |9.0            |2497.77|11/11/2003 00:00|Shipped|4.0   |11.0    |2003.0 |Motorcycles|95.0|S10_1678   |Daedalus Designs Imports  |20.16.1555      |184, chausse de Tournai      |null        |Lille        |null    |59000.0   |France   |EMEA     |Rance          |Martine         |Small   |2024-02-22T20:17:05.3635446Z|7dd88d54-38c0-4d6f-baad-7bd14c695715|32ec41e1-8a79-43c8-9951-a1410f89358b|b0701106-15e6-4839-98ef-1aed8c4b0fe3|\n|10188.0    |48.0           |100.0    |1.0            |5512.32|11/18/2003 0:00 |Shipped|4.0   |11.0    |2003.0 |Motorcycles|95.0|S10_1678   |Herkku Gifts              |+47 2267 3215   |Drammen 121, PR 744 Sentrum  |null        |Bergen       |null    |null      |Norway   |EMEA     |Oeztan         |Veysel          |Medium  |2024-02-22T20:17:05.3635446Z|41730263-f621-407f-9898-7bf66a576c61|32ec41e1-8a79-43c8-9951-a1410f89358b|4b08593c-fdae-476b-bce0-f8e3c078ba37|\n|10201.0    |22.0           |98.57    |2.0            |2168.54|12/01/2003 00:00|Shipped|4.0   |12.0    |2003.0 |Motorcycles|95.0|S10_1678   |Mini Wheels Co.           |6505555787      |5557 North Pendale Street    |null        |San Francisco|CA      |null      |USA      |NA       |Murphy         |Julie           |Small   |2024-02-22T20:17:05.3635446Z|678cc574-e76f-41f6-8e3d-48777b689e30|32ec41e1-8a79-43c8-9951-a1410f89358b|b0701106-15e6-4839-98ef-1aed8c4b0fe3|\n|10211.0    |41.0           |100.0    |14.0           |4708.44|1/15/2004 0:00  |Shipped|1.0   |1.0     |2004.0 |Motorcycles|95.0|S10_1678   |Auto Canal Petit          |(1) 47.55.6555  |25, rue Lauriston            |null        |Paris        |null    |75016.0   |France   |EMEA     |Perrier        |Dominique       |Medium  |2024-02-22T20:17:05.3635446Z|7dd88d54-38c0-4d6f-baad-7bd14c695715|32ec41e1-8a79-43c8-9951-a1410f89358b|4b08593c-fdae-476b-bce0-f8e3c078ba37|\n|10223.0    |37.0           |100.0    |1.0            |3965.66|2/20/2004 0:00  |Shipped|1.0   |2.0     |2004.0 |Motorcycles|95.0|S10_1678   |Australian Collectors, Co.|03 9520 4555    |636 St Kilda Road            |Level 3     |Melbourne    |Victoria|3004.0    |Australia|APAC     |Ferguson       |Peter           |Medium  |2024-02-22T20:17:05.3635446Z|3c89688b-38d1-4b6d-85f5-ae43aab4205b|32ec41e1-8a79-43c8-9951-a1410f89358b|4b08593c-fdae-476b-bce0-f8e3c078ba37|\n|10237.0    |23.0           |100.0    |7.0            |2333.12|04/05/2004 00:00|Shipped|2.0   |4.0     |2004.0 |Motorcycles|95.0|S10_1678   |Vitachrome Inc.           |2125551500      |2678 Kingston Rd.            |Suite 101   |NYC          |NY      |10022.0   |USA      |NA       |Frick          |Michael         |Small   |2024-02-22T20:17:05.3635446Z|678cc574-e76f-41f6-8e3d-48777b689e30|32ec41e1-8a79-43c8-9951-a1410f89358b|b0701106-15e6-4839-98ef-1aed8c4b0fe3|\n|10251.0    |28.0           |100.0    |2.0            |3188.64|5/18/2004 0:00  |Shipped|2.0   |5.0     |2004.0 |Motorcycles|95.0|S10_1678   |Tekni Collectables Inc.   |2015559350      |7476 Moss Rd.                |null        |Newark       |NJ      |94019.0   |USA      |NA       |Brown          |William         |Medium  |2024-02-22T20:17:05.3635446Z|678cc574-e76f-41f6-8e3d-48777b689e30|32ec41e1-8a79-43c8-9951-a1410f89358b|4b08593c-fdae-476b-bce0-f8e3c078ba37|\n|10263.0    |34.0           |100.0    |2.0            |3676.76|6/28/2004 0:00  |Shipped|2.0   |6.0     |2004.0 |Motorcycles|95.0|S10_1678   |Gift Depot Inc.           |2035552570      |25593 South Bay Ln.          |null        |Bridgewater  |CT      |97562.0   |USA      |NA       |King           |Julie           |Medium  |2024-02-22T20:17:05.3635446Z|678cc574-e76f-41f6-8e3d-48777b689e30|32ec41e1-8a79-43c8-9951-a1410f89358b|4b08593c-fdae-476b-bce0-f8e3c078ba37|\n|10275.0    |45.0           |92.83    |1.0            |4177.35|7/23/2004 0:00  |Shipped|3.0   |7.0     |2004.0 |Motorcycles|95.0|S10_1678   |La Rochelle Gifts         |40.67.8555      |67, rue des Cinquante Otages |null        |Nantes       |null    |44000.0   |France   |EMEA     |Labrune        |Janine          |Medium  |2024-02-22T20:17:05.3635446Z|7dd88d54-38c0-4d6f-baad-7bd14c695715|32ec41e1-8a79-43c8-9951-a1410f89358b|4b08593c-fdae-476b-bce0-f8e3c078ba37|\n|10285.0    |36.0           |100.0    |6.0            |4099.68|8/27/2004 0:00  |Shipped|3.0   |8.0     |2004.0 |Motorcycles|95.0|S10_1678   |Marta's Replicas Co.      |6175558555      |39323 Spinnaker Dr.          |null        |Cambridge    |MA      |51247.0   |USA      |NA       |Hernandez      |Marta           |Medium  |2024-02-22T20:17:05.3635446Z|678cc574-e76f-41f6-8e3d-48777b689e30|32ec41e1-8a79-43c8-9951-a1410f89358b|4b08593c-fdae-476b-bce0-f8e3c078ba37|\n|10299.0    |23.0           |100.0    |9.0            |2597.39|9/30/2004 0:00  |Shipped|3.0   |9.0     |2004.0 |Motorcycles|95.0|S10_1678   |Toys of Finland, Co.      |90-224 8555     |Keskuskatu 45                |null        |Helsinki     |null    |21240.0   |Finland  |EMEA     |Karttunen      |Matti           |Small   |2024-02-22T20:17:05.3635446Z|7df51afa-1cd8-4ccd-9f58-da73d9bc8aa8|32ec41e1-8a79-43c8-9951-a1410f89358b|b0701106-15e6-4839-98ef-1aed8c4b0fe3|\n|10309.0    |41.0           |100.0    |5.0            |4394.38|10/15/2004 0:00 |Shipped|4.0   |10.0    |2004.0 |Motorcycles|95.0|S10_1678   |Baane Mini Imports        |07-98 9555      |Erling Skakkes gate 78       |null        |Stavern      |null    |4110.0    |Norway   |EMEA     |Bergulfsen     |Jonas           |Medium  |2024-02-22T20:17:05.3635446Z|41730263-f621-407f-9898-7bf66a576c61|32ec41e1-8a79-43c8-9951-a1410f89358b|4b08593c-fdae-476b-bce0-f8e3c078ba37|\n|10318.0    |46.0           |94.74    |1.0            |4358.04|11/02/2004 00:00|Shipped|4.0   |11.0    |2004.0 |Motorcycles|95.0|S10_1678   |Diecast Classics Inc.     |2155551555      |7586 Pompton St.             |null        |Allentown    |PA      |70267.0   |USA      |NA       |Yu             |Kyung           |Medium  |2024-02-22T20:17:05.3635446Z|678cc574-e76f-41f6-8e3d-48777b689e30|32ec41e1-8a79-43c8-9951-a1410f89358b|4b08593c-fdae-476b-bce0-f8e3c078ba37|\n|10329.0    |42.0           |100.0    |1.0            |4396.14|11/15/2004 0:00 |Shipped|4.0   |11.0    |2004.0 |Motorcycles|95.0|S10_1678   |Land of Toys Inc.         |2125557818      |897 Long Airport Avenue      |null        |NYC          |NY      |10022.0   |USA      |NA       |Yu             |Kwai            |Medium  |2024-02-22T20:17:05.3635446Z|678cc574-e76f-41f6-8e3d-48777b689e30|32ec41e1-8a79-43c8-9951-a1410f89358b|4b08593c-fdae-476b-bce0-f8e3c078ba37|\n+-----------+---------------+---------+---------------+-------+----------------+-------+------+--------+-------+-----------+----+-----------+--------------------------+----------------+-----------------------------+------------+-------------+--------+----------+---------+---------+---------------+----------------+--------+----------------------------+------------------------------------+------------------------------------+------------------------------------+\nonly showing top 20 rows\n\n"
          ]
        }
      ],
      "metadata": {
        "jupyter": {
          "source_hidden": false,
          "outputs_hidden": false
        },
        "nteract": {
          "transient": {
            "deleting": false
          }
        }
      },
      "source": [
        "#DEALSIZE \r\n",
        "df_dim_DEALSIZE = DF_SourceRaw.select(\"DEALSIZE\")\r\n",
        "#df_dim_DEALSIZE.show(3)\r\n",
        "\r\n",
        "df_dim_DEALSIZE = df_dim_DEALSIZE.distinct()\r\n",
        "df_dim_DEALSIZE.show()\r\n",
        "\r\n",
        "df_dim_DEALSIZE.createOrReplaceTempView(\"DimDealsize_Temp\")\r\n",
        "\r\n",
        "sql_str=\"select DEALSIZE, uuid() as DEALSIZE_ID from DimDealsize_Temp \" \r\n",
        "\r\n",
        "\r\n",
        "df_dim_DEALSIZE = spark.sql(sql_str)\r\n",
        "df_dim_DEALSIZE.show()\r\n",
        "\r\n",
        "\r\n",
        "from pyspark.sql.functions import col\r\n",
        "\r\n",
        "DF_SourceRaw = DF_SourceRaw.join(df_dim_DEALSIZE, (DF_SourceRaw.DEALSIZE == df_dim_DEALSIZE.DEALSIZE),\"leftouter\" )\\\r\n",
        "    .select(DF_SourceRaw[\"*\"],col(\"DEALSIZE_ID\"))\r\n",
        "    \r\n",
        "DF_SourceRaw.show(truncate=False)"
      ]
    },
    {
      "cell_type": "code",
      "execution_count": 34,
      "outputs": [
        {
          "output_type": "display_data",
          "data": {
            "application/vnd.livy.statement-meta+json": {
              "spark_pool": "preranasmall",
              "session_id": "42",
              "statement_id": 26,
              "state": "finished",
              "livy_statement_state": "available",
              "queued_time": "2024-02-22T22:16:35.5292053Z",
              "session_start_time": null,
              "execution_start_time": "2024-02-22T22:16:44.3728919Z",
              "execution_finish_time": "2024-02-22T22:16:48.3562336Z",
              "spark_jobs": null,
              "parent_msg_id": "c7ca5d68-db02-4034-87bf-d78c40115e8a"
            },
            "text/plain": "StatementMeta(preranasmall, 42, 26, Finished, Available)"
          },
          "metadata": {}
        },
        {
          "output_type": "stream",
          "name": "stdout",
          "text": [
            "+----------------+\n|     PRODUCTLINE|\n+----------------+\n|     Motorcycles|\n|    Vintage Cars|\n|           Ships|\n|Trucks and Buses|\n|    Classic Cars|\n|          Trains|\n|          Planes|\n+----------------+\n\n+----------------+--------------------+\n|     PRODUCTLINE|      PRODUCTLINE_ID|\n+----------------+--------------------+\n|     Motorcycles|db357add-6cbc-41d...|\n|    Vintage Cars|02844dc3-2f46-4b2...|\n|           Ships|833b6adf-2e08-48b...|\n|Trucks and Buses|10c15d17-771c-491...|\n|    Classic Cars|0cb8d216-315a-492...|\n|          Trains|65cc0798-2129-43f...|\n|          Planes|40b8b396-fcd3-42f...|\n+----------------+--------------------+\n\n+-----------+---------------+---------+---------------+-------+----------------+-------+------+--------+-------+-----------+----+-----------+--------------------------+----------------+-----------------------------+------------+-------------+--------+----------+---------+---------+---------------+----------------+--------+----------------------------+------------------------------------+------------------------------------+------------------------------------+------------------------------------+\n|ORDERNUMBER|QUANTITYORDERED|PRICEEACH|ORDERLINENUMBER|SALES  |ORDERDATE       |STATUS |QTR_ID|MONTH_ID|YEAR_ID|PRODUCTLINE|MSRP|PRODUCTCODE|CUSTOMERNAME              |PHONE           |ADDRESSLINE1                 |ADDRESSLINE2|CITY         |STATE   |POSTALCODE|COUNTRY  |TERRITORY|CONTACTLASTNAME|CONTACTFIRSTNAME|DEALSIZE|DateIngestedDateTime        |Country_ID                          |Status_ID                           |DEALSIZE_ID                         |PRODUCTLINE_ID                      |\n+-----------+---------------+---------+---------------+-------+----------------+-------+------+--------+-------+-----------+----+-----------+--------------------------+----------------+-----------------------------+------------+-------------+--------+----------+---------+---------+---------------+----------------+--------+----------------------------+------------------------------------+------------------------------------+------------------------------------+------------------------------------+\n|10107.0    |30.0           |95.7     |2.0            |2871.0 |2/24/2003 0:00  |Shipped|1.0   |2.0     |2003.0 |Motorcycles|95.0|S10_1678   |Land of Toys Inc.         |2125557818      |897 Long Airport Avenue      |null        |NYC          |NY      |10022.0   |USA      |NA       |Yu             |Kwai            |Small   |2024-02-22T20:17:05.3635446Z|678cc574-e76f-41f6-8e3d-48777b689e30|32ec41e1-8a79-43c8-9951-a1410f89358b|b0701106-15e6-4839-98ef-1aed8c4b0fe3|db357add-6cbc-41d6-900f-d4ae17bb3be7|\n|10121.0    |34.0           |81.35    |5.0            |2765.9 |05/07/2003 00:00|Shipped|2.0   |5.0     |2003.0 |Motorcycles|95.0|S10_1678   |Reims Collectables        |26.47.1555      |59 rue de l'Abbaye           |null        |Reims        |null    |51100.0   |France   |EMEA     |Henriot        |Paul            |Small   |2024-02-22T20:17:05.3635446Z|7dd88d54-38c0-4d6f-baad-7bd14c695715|32ec41e1-8a79-43c8-9951-a1410f89358b|b0701106-15e6-4839-98ef-1aed8c4b0fe3|db357add-6cbc-41d6-900f-d4ae17bb3be7|\n|10134.0    |41.0           |94.74    |2.0            |3884.34|07/01/2003 00:00|Shipped|3.0   |7.0     |2003.0 |Motorcycles|95.0|S10_1678   |Lyon Souveniers           |+33 1 46 62 7555|27 rue du Colonel Pierre Avia|null        |Paris        |null    |75508.0   |France   |EMEA     |Da Cunha       |Daniel          |Medium  |2024-02-22T20:17:05.3635446Z|7dd88d54-38c0-4d6f-baad-7bd14c695715|32ec41e1-8a79-43c8-9951-a1410f89358b|4b08593c-fdae-476b-bce0-f8e3c078ba37|db357add-6cbc-41d6-900f-d4ae17bb3be7|\n|10145.0    |45.0           |83.26    |6.0            |3746.7 |8/25/2003 0:00  |Shipped|3.0   |8.0     |2003.0 |Motorcycles|95.0|S10_1678   |Toys4GrownUps.com         |6265557265      |78934 Hillside Dr.           |null        |Pasadena     |CA      |90003.0   |USA      |NA       |Young          |Julie           |Medium  |2024-02-22T20:17:05.3635446Z|678cc574-e76f-41f6-8e3d-48777b689e30|32ec41e1-8a79-43c8-9951-a1410f89358b|4b08593c-fdae-476b-bce0-f8e3c078ba37|db357add-6cbc-41d6-900f-d4ae17bb3be7|\n|10159.0    |49.0           |100.0    |14.0           |5205.27|10/10/2003 00:00|Shipped|4.0   |10.0    |2003.0 |Motorcycles|95.0|S10_1678   |Corporate Gift Ideas Co.  |6505551386      |7734 Strong St.              |null        |San Francisco|CA      |null      |USA      |NA       |Brown          |Julie           |Medium  |2024-02-22T20:17:05.3635446Z|678cc574-e76f-41f6-8e3d-48777b689e30|32ec41e1-8a79-43c8-9951-a1410f89358b|4b08593c-fdae-476b-bce0-f8e3c078ba37|db357add-6cbc-41d6-900f-d4ae17bb3be7|\n|10168.0    |36.0           |96.66    |1.0            |3479.76|10/28/2003 0:00 |Shipped|4.0   |10.0    |2003.0 |Motorcycles|95.0|S10_1678   |Technics Stores Inc.      |6505556809      |9408 Furth Circle            |null        |Burlingame   |CA      |94217.0   |USA      |NA       |Hirano         |Juri            |Medium  |2024-02-22T20:17:05.3635446Z|678cc574-e76f-41f6-8e3d-48777b689e30|32ec41e1-8a79-43c8-9951-a1410f89358b|4b08593c-fdae-476b-bce0-f8e3c078ba37|db357add-6cbc-41d6-900f-d4ae17bb3be7|\n|10180.0    |29.0           |86.13    |9.0            |2497.77|11/11/2003 00:00|Shipped|4.0   |11.0    |2003.0 |Motorcycles|95.0|S10_1678   |Daedalus Designs Imports  |20.16.1555      |184, chausse de Tournai      |null        |Lille        |null    |59000.0   |France   |EMEA     |Rance          |Martine         |Small   |2024-02-22T20:17:05.3635446Z|7dd88d54-38c0-4d6f-baad-7bd14c695715|32ec41e1-8a79-43c8-9951-a1410f89358b|b0701106-15e6-4839-98ef-1aed8c4b0fe3|db357add-6cbc-41d6-900f-d4ae17bb3be7|\n|10188.0    |48.0           |100.0    |1.0            |5512.32|11/18/2003 0:00 |Shipped|4.0   |11.0    |2003.0 |Motorcycles|95.0|S10_1678   |Herkku Gifts              |+47 2267 3215   |Drammen 121, PR 744 Sentrum  |null        |Bergen       |null    |null      |Norway   |EMEA     |Oeztan         |Veysel          |Medium  |2024-02-22T20:17:05.3635446Z|41730263-f621-407f-9898-7bf66a576c61|32ec41e1-8a79-43c8-9951-a1410f89358b|4b08593c-fdae-476b-bce0-f8e3c078ba37|db357add-6cbc-41d6-900f-d4ae17bb3be7|\n|10201.0    |22.0           |98.57    |2.0            |2168.54|12/01/2003 00:00|Shipped|4.0   |12.0    |2003.0 |Motorcycles|95.0|S10_1678   |Mini Wheels Co.           |6505555787      |5557 North Pendale Street    |null        |San Francisco|CA      |null      |USA      |NA       |Murphy         |Julie           |Small   |2024-02-22T20:17:05.3635446Z|678cc574-e76f-41f6-8e3d-48777b689e30|32ec41e1-8a79-43c8-9951-a1410f89358b|b0701106-15e6-4839-98ef-1aed8c4b0fe3|db357add-6cbc-41d6-900f-d4ae17bb3be7|\n|10211.0    |41.0           |100.0    |14.0           |4708.44|1/15/2004 0:00  |Shipped|1.0   |1.0     |2004.0 |Motorcycles|95.0|S10_1678   |Auto Canal Petit          |(1) 47.55.6555  |25, rue Lauriston            |null        |Paris        |null    |75016.0   |France   |EMEA     |Perrier        |Dominique       |Medium  |2024-02-22T20:17:05.3635446Z|7dd88d54-38c0-4d6f-baad-7bd14c695715|32ec41e1-8a79-43c8-9951-a1410f89358b|4b08593c-fdae-476b-bce0-f8e3c078ba37|db357add-6cbc-41d6-900f-d4ae17bb3be7|\n|10223.0    |37.0           |100.0    |1.0            |3965.66|2/20/2004 0:00  |Shipped|1.0   |2.0     |2004.0 |Motorcycles|95.0|S10_1678   |Australian Collectors, Co.|03 9520 4555    |636 St Kilda Road            |Level 3     |Melbourne    |Victoria|3004.0    |Australia|APAC     |Ferguson       |Peter           |Medium  |2024-02-22T20:17:05.3635446Z|3c89688b-38d1-4b6d-85f5-ae43aab4205b|32ec41e1-8a79-43c8-9951-a1410f89358b|4b08593c-fdae-476b-bce0-f8e3c078ba37|db357add-6cbc-41d6-900f-d4ae17bb3be7|\n|10237.0    |23.0           |100.0    |7.0            |2333.12|04/05/2004 00:00|Shipped|2.0   |4.0     |2004.0 |Motorcycles|95.0|S10_1678   |Vitachrome Inc.           |2125551500      |2678 Kingston Rd.            |Suite 101   |NYC          |NY      |10022.0   |USA      |NA       |Frick          |Michael         |Small   |2024-02-22T20:17:05.3635446Z|678cc574-e76f-41f6-8e3d-48777b689e30|32ec41e1-8a79-43c8-9951-a1410f89358b|b0701106-15e6-4839-98ef-1aed8c4b0fe3|db357add-6cbc-41d6-900f-d4ae17bb3be7|\n|10251.0    |28.0           |100.0    |2.0            |3188.64|5/18/2004 0:00  |Shipped|2.0   |5.0     |2004.0 |Motorcycles|95.0|S10_1678   |Tekni Collectables Inc.   |2015559350      |7476 Moss Rd.                |null        |Newark       |NJ      |94019.0   |USA      |NA       |Brown          |William         |Medium  |2024-02-22T20:17:05.3635446Z|678cc574-e76f-41f6-8e3d-48777b689e30|32ec41e1-8a79-43c8-9951-a1410f89358b|4b08593c-fdae-476b-bce0-f8e3c078ba37|db357add-6cbc-41d6-900f-d4ae17bb3be7|\n|10263.0    |34.0           |100.0    |2.0            |3676.76|6/28/2004 0:00  |Shipped|2.0   |6.0     |2004.0 |Motorcycles|95.0|S10_1678   |Gift Depot Inc.           |2035552570      |25593 South Bay Ln.          |null        |Bridgewater  |CT      |97562.0   |USA      |NA       |King           |Julie           |Medium  |2024-02-22T20:17:05.3635446Z|678cc574-e76f-41f6-8e3d-48777b689e30|32ec41e1-8a79-43c8-9951-a1410f89358b|4b08593c-fdae-476b-bce0-f8e3c078ba37|db357add-6cbc-41d6-900f-d4ae17bb3be7|\n|10275.0    |45.0           |92.83    |1.0            |4177.35|7/23/2004 0:00  |Shipped|3.0   |7.0     |2004.0 |Motorcycles|95.0|S10_1678   |La Rochelle Gifts         |40.67.8555      |67, rue des Cinquante Otages |null        |Nantes       |null    |44000.0   |France   |EMEA     |Labrune        |Janine          |Medium  |2024-02-22T20:17:05.3635446Z|7dd88d54-38c0-4d6f-baad-7bd14c695715|32ec41e1-8a79-43c8-9951-a1410f89358b|4b08593c-fdae-476b-bce0-f8e3c078ba37|db357add-6cbc-41d6-900f-d4ae17bb3be7|\n|10285.0    |36.0           |100.0    |6.0            |4099.68|8/27/2004 0:00  |Shipped|3.0   |8.0     |2004.0 |Motorcycles|95.0|S10_1678   |Marta's Replicas Co.      |6175558555      |39323 Spinnaker Dr.          |null        |Cambridge    |MA      |51247.0   |USA      |NA       |Hernandez      |Marta           |Medium  |2024-02-22T20:17:05.3635446Z|678cc574-e76f-41f6-8e3d-48777b689e30|32ec41e1-8a79-43c8-9951-a1410f89358b|4b08593c-fdae-476b-bce0-f8e3c078ba37|db357add-6cbc-41d6-900f-d4ae17bb3be7|\n|10299.0    |23.0           |100.0    |9.0            |2597.39|9/30/2004 0:00  |Shipped|3.0   |9.0     |2004.0 |Motorcycles|95.0|S10_1678   |Toys of Finland, Co.      |90-224 8555     |Keskuskatu 45                |null        |Helsinki     |null    |21240.0   |Finland  |EMEA     |Karttunen      |Matti           |Small   |2024-02-22T20:17:05.3635446Z|7df51afa-1cd8-4ccd-9f58-da73d9bc8aa8|32ec41e1-8a79-43c8-9951-a1410f89358b|b0701106-15e6-4839-98ef-1aed8c4b0fe3|db357add-6cbc-41d6-900f-d4ae17bb3be7|\n|10309.0    |41.0           |100.0    |5.0            |4394.38|10/15/2004 0:00 |Shipped|4.0   |10.0    |2004.0 |Motorcycles|95.0|S10_1678   |Baane Mini Imports        |07-98 9555      |Erling Skakkes gate 78       |null        |Stavern      |null    |4110.0    |Norway   |EMEA     |Bergulfsen     |Jonas           |Medium  |2024-02-22T20:17:05.3635446Z|41730263-f621-407f-9898-7bf66a576c61|32ec41e1-8a79-43c8-9951-a1410f89358b|4b08593c-fdae-476b-bce0-f8e3c078ba37|db357add-6cbc-41d6-900f-d4ae17bb3be7|\n|10318.0    |46.0           |94.74    |1.0            |4358.04|11/02/2004 00:00|Shipped|4.0   |11.0    |2004.0 |Motorcycles|95.0|S10_1678   |Diecast Classics Inc.     |2155551555      |7586 Pompton St.             |null        |Allentown    |PA      |70267.0   |USA      |NA       |Yu             |Kyung           |Medium  |2024-02-22T20:17:05.3635446Z|678cc574-e76f-41f6-8e3d-48777b689e30|32ec41e1-8a79-43c8-9951-a1410f89358b|4b08593c-fdae-476b-bce0-f8e3c078ba37|db357add-6cbc-41d6-900f-d4ae17bb3be7|\n|10329.0    |42.0           |100.0    |1.0            |4396.14|11/15/2004 0:00 |Shipped|4.0   |11.0    |2004.0 |Motorcycles|95.0|S10_1678   |Land of Toys Inc.         |2125557818      |897 Long Airport Avenue      |null        |NYC          |NY      |10022.0   |USA      |NA       |Yu             |Kwai            |Medium  |2024-02-22T20:17:05.3635446Z|678cc574-e76f-41f6-8e3d-48777b689e30|32ec41e1-8a79-43c8-9951-a1410f89358b|4b08593c-fdae-476b-bce0-f8e3c078ba37|db357add-6cbc-41d6-900f-d4ae17bb3be7|\n+-----------+---------------+---------+---------------+-------+----------------+-------+------+--------+-------+-----------+----+-----------+--------------------------+----------------+-----------------------------+------------+-------------+--------+----------+---------+---------+---------------+----------------+--------+----------------------------+------------------------------------+------------------------------------+------------------------------------+------------------------------------+\nonly showing top 20 rows\n\n"
          ]
        }
      ],
      "metadata": {
        "jupyter": {
          "source_hidden": false,
          "outputs_hidden": false
        },
        "nteract": {
          "transient": {
            "deleting": false
          }
        }
      },
      "source": [
        "#PRODUCTLINE \r\n",
        "df_dim_PRODUCTLINE = DF_SourceRaw.select(\"PRODUCTLINE\")\r\n",
        "#df_dim_PRODUCTLINE.show(3)\r\n",
        "\r\n",
        "df_dim_PRODUCTLINE = df_dim_PRODUCTLINE.distinct()\r\n",
        "df_dim_PRODUCTLINE.show()\r\n",
        "\r\n",
        "df_dim_PRODUCTLINE.createOrReplaceTempView(\"DimProductline_Temp\")\r\n",
        "\r\n",
        "sql_str=\"select PRODUCTLINE, uuid() as PRODUCTLINE_ID from DimProductline_Temp \" \r\n",
        "\r\n",
        "\r\n",
        "df_dim_PRODUCTLINE = spark.sql(sql_str)\r\n",
        "df_dim_PRODUCTLINE.show()\r\n",
        "\r\n",
        "\r\n",
        "from pyspark.sql.functions import col\r\n",
        "\r\n",
        "DF_SourceRaw = DF_SourceRaw.join(df_dim_PRODUCTLINE, (DF_SourceRaw.PRODUCTLINE == df_dim_PRODUCTLINE.PRODUCTLINE),\"leftouter\" )\\\r\n",
        "    .select(DF_SourceRaw[\"*\"],col(\"PRODUCTLINE_ID\"))\r\n",
        "    \r\n",
        "DF_SourceRaw.show(truncate=False)"
      ]
    },
    {
      "cell_type": "code",
      "execution_count": 35,
      "outputs": [
        {
          "output_type": "display_data",
          "data": {
            "application/vnd.livy.statement-meta+json": {
              "spark_pool": "preranasmall",
              "session_id": "42",
              "statement_id": 27,
              "state": "finished",
              "livy_statement_state": "available",
              "queued_time": "2024-02-22T22:16:35.8472574Z",
              "session_start_time": null,
              "execution_start_time": "2024-02-22T22:16:48.519126Z",
              "execution_finish_time": "2024-02-22T22:16:53.8559619Z",
              "spark_jobs": null,
              "parent_msg_id": "0f91224c-25a6-4df4-b98d-4cdd959ad15e"
            },
            "text/plain": "StatementMeta(preranasmall, 42, 27, Finished, Available)"
          },
          "metadata": {}
        },
        {
          "output_type": "stream",
          "name": "stdout",
          "text": [
            "+--------------------+-------------+--------------------+------------+---------+-----+----------+---------------+----------------+\n|        CUSTOMERNAME|        PHONE|        ADDRESSLINE1|ADDRESSLINE2|     CITY|STATE|POSTALCODE|CONTACTLASTNAME|CONTACTFIRSTNAME|\n+--------------------+-------------+--------------------+------------+---------+-----+----------+---------------+----------------+\n|Cambridge Collect...|   6175555555|      4658 Baden Av.|        null|Cambridge|   MA|   51247.0|          Tseng|           Kyung|\n|   Atelier graphique|   40.32.2555|      54, rue Royale|        null|   Nantes| null|   44000.0|        Schmitt|          Carine|\n|Norway Gifts By M...|+47 2212 1555|Drammensveien 126...|        null|     Oslo| null|      null|        Klaeboe|             Jan|\n+--------------------+-------------+--------------------+------------+---------+-----+----------+---------------+----------------+\nonly showing top 3 rows\n\n+--------------------+-------------+--------------------+------------+---------+-----+----------+---------------+----------------+--------------------+\n|        CUSTOMERNAME|        PHONE|        ADDRESSLINE1|ADDRESSLINE2|     CITY|STATE|POSTALCODE|CONTACTLASTNAME|CONTACTFIRSTNAME|         Customer_ID|\n+--------------------+-------------+--------------------+------------+---------+-----+----------+---------------+----------------+--------------------+\n|Cambridge Collect...|   6175555555|      4658 Baden Av.|        null|Cambridge|   MA|   51247.0|          Tseng|           Kyung|81bb7017-b6b0-4ec...|\n|   Atelier graphique|   40.32.2555|      54, rue Royale|        null|   Nantes| null|   44000.0|        Schmitt|          Carine|1740696b-48ac-413...|\n|Norway Gifts By M...|+47 2212 1555|Drammensveien 126...|        null|     Oslo| null|      null|        Klaeboe|             Jan|01e2602d-09d0-429...|\n+--------------------+-------------+--------------------+------------+---------+-----+----------+---------------+----------------+--------------------+\nonly showing top 3 rows\n\n+-----------+---------------+---------+---------------+-------+----------------+-------+------+--------+-------+-----------+----+-----------+--------------------------+----------------+-----------------------------+------------+-------------+--------+----------+---------+---------+---------------+----------------+--------+----------------------------+------------------------------------+------------------------------------+------------------------------------+------------------------------------+------------------------------------+\n|ORDERNUMBER|QUANTITYORDERED|PRICEEACH|ORDERLINENUMBER|SALES  |ORDERDATE       |STATUS |QTR_ID|MONTH_ID|YEAR_ID|PRODUCTLINE|MSRP|PRODUCTCODE|CUSTOMERNAME              |PHONE           |ADDRESSLINE1                 |ADDRESSLINE2|CITY         |STATE   |POSTALCODE|COUNTRY  |TERRITORY|CONTACTLASTNAME|CONTACTFIRSTNAME|DEALSIZE|DateIngestedDateTime        |Country_ID                          |Status_ID                           |DEALSIZE_ID                         |PRODUCTLINE_ID                      |Customer_ID                         |\n+-----------+---------------+---------+---------------+-------+----------------+-------+------+--------+-------+-----------+----+-----------+--------------------------+----------------+-----------------------------+------------+-------------+--------+----------+---------+---------+---------------+----------------+--------+----------------------------+------------------------------------+------------------------------------+------------------------------------+------------------------------------+------------------------------------+\n|10134.0    |41.0           |94.74    |2.0            |3884.34|07/01/2003 00:00|Shipped|3.0   |7.0     |2003.0 |Motorcycles|95.0|S10_1678   |Lyon Souveniers           |+33 1 46 62 7555|27 rue du Colonel Pierre Avia|null        |Paris        |null    |75508.0   |France   |EMEA     |Da Cunha       |Daniel          |Medium  |2024-02-22T20:17:05.3635446Z|7dd88d54-38c0-4d6f-baad-7bd14c695715|32ec41e1-8a79-43c8-9951-a1410f89358b|4b08593c-fdae-476b-bce0-f8e3c078ba37|db357add-6cbc-41d6-900f-d4ae17bb3be7|17eda75d-1498-43d8-a467-776c901686ee|\n|10275.0    |45.0           |92.83    |1.0            |4177.35|7/23/2004 0:00  |Shipped|3.0   |7.0     |2004.0 |Motorcycles|95.0|S10_1678   |La Rochelle Gifts         |40.67.8555      |67, rue des Cinquante Otages |null        |Nantes       |null    |44000.0   |France   |EMEA     |Labrune        |Janine          |Medium  |2024-02-22T20:17:05.3635446Z|7dd88d54-38c0-4d6f-baad-7bd14c695715|32ec41e1-8a79-43c8-9951-a1410f89358b|4b08593c-fdae-476b-bce0-f8e3c078ba37|db357add-6cbc-41d6-900f-d4ae17bb3be7|004e8d36-aeb7-4f72-844e-d536996a7a2a|\n|10237.0    |23.0           |100.0    |7.0            |2333.12|04/05/2004 00:00|Shipped|2.0   |4.0     |2004.0 |Motorcycles|95.0|S10_1678   |Vitachrome Inc.           |2125551500      |2678 Kingston Rd.            |Suite 101   |NYC          |NY      |10022.0   |USA      |NA       |Frick          |Michael         |Small   |2024-02-22T20:17:05.3635446Z|678cc574-e76f-41f6-8e3d-48777b689e30|32ec41e1-8a79-43c8-9951-a1410f89358b|b0701106-15e6-4839-98ef-1aed8c4b0fe3|db357add-6cbc-41d6-900f-d4ae17bb3be7|073c1059-a34b-4b09-b2a9-d8bdf3408711|\n|10180.0    |29.0           |86.13    |9.0            |2497.77|11/11/2003 00:00|Shipped|4.0   |11.0    |2003.0 |Motorcycles|95.0|S10_1678   |Daedalus Designs Imports  |20.16.1555      |184, chausse de Tournai      |null        |Lille        |null    |59000.0   |France   |EMEA     |Rance          |Martine         |Small   |2024-02-22T20:17:05.3635446Z|7dd88d54-38c0-4d6f-baad-7bd14c695715|32ec41e1-8a79-43c8-9951-a1410f89358b|b0701106-15e6-4839-98ef-1aed8c4b0fe3|db357add-6cbc-41d6-900f-d4ae17bb3be7|eed01554-8722-4d2a-be4c-78149509c527|\n|10201.0    |22.0           |98.57    |2.0            |2168.54|12/01/2003 00:00|Shipped|4.0   |12.0    |2003.0 |Motorcycles|95.0|S10_1678   |Mini Wheels Co.           |6505555787      |5557 North Pendale Street    |null        |San Francisco|CA      |null      |USA      |NA       |Murphy         |Julie           |Small   |2024-02-22T20:17:05.3635446Z|678cc574-e76f-41f6-8e3d-48777b689e30|32ec41e1-8a79-43c8-9951-a1410f89358b|b0701106-15e6-4839-98ef-1aed8c4b0fe3|db357add-6cbc-41d6-900f-d4ae17bb3be7|6766e6dd-4811-4f51-b29d-2887648460d0|\n|10211.0    |41.0           |100.0    |14.0           |4708.44|1/15/2004 0:00  |Shipped|1.0   |1.0     |2004.0 |Motorcycles|95.0|S10_1678   |Auto Canal Petit          |(1) 47.55.6555  |25, rue Lauriston            |null        |Paris        |null    |75016.0   |France   |EMEA     |Perrier        |Dominique       |Medium  |2024-02-22T20:17:05.3635446Z|7dd88d54-38c0-4d6f-baad-7bd14c695715|32ec41e1-8a79-43c8-9951-a1410f89358b|4b08593c-fdae-476b-bce0-f8e3c078ba37|db357add-6cbc-41d6-900f-d4ae17bb3be7|f48d258b-3196-4f5b-82bc-5719258ee5b9|\n|10299.0    |23.0           |100.0    |9.0            |2597.39|9/30/2004 0:00  |Shipped|3.0   |9.0     |2004.0 |Motorcycles|95.0|S10_1678   |Toys of Finland, Co.      |90-224 8555     |Keskuskatu 45                |null        |Helsinki     |null    |21240.0   |Finland  |EMEA     |Karttunen      |Matti           |Small   |2024-02-22T20:17:05.3635446Z|7df51afa-1cd8-4ccd-9f58-da73d9bc8aa8|32ec41e1-8a79-43c8-9951-a1410f89358b|b0701106-15e6-4839-98ef-1aed8c4b0fe3|db357add-6cbc-41d6-900f-d4ae17bb3be7|1134deca-a292-45b5-bc15-a293f886c8d6|\n|10121.0    |34.0           |81.35    |5.0            |2765.9 |05/07/2003 00:00|Shipped|2.0   |5.0     |2003.0 |Motorcycles|95.0|S10_1678   |Reims Collectables        |26.47.1555      |59 rue de l'Abbaye           |null        |Reims        |null    |51100.0   |France   |EMEA     |Henriot        |Paul            |Small   |2024-02-22T20:17:05.3635446Z|7dd88d54-38c0-4d6f-baad-7bd14c695715|32ec41e1-8a79-43c8-9951-a1410f89358b|b0701106-15e6-4839-98ef-1aed8c4b0fe3|db357add-6cbc-41d6-900f-d4ae17bb3be7|2a4d4390-e498-4f70-93f3-c04fad54e677|\n|10145.0    |45.0           |83.26    |6.0            |3746.7 |8/25/2003 0:00  |Shipped|3.0   |8.0     |2003.0 |Motorcycles|95.0|S10_1678   |Toys4GrownUps.com         |6265557265      |78934 Hillside Dr.           |null        |Pasadena     |CA      |90003.0   |USA      |NA       |Young          |Julie           |Medium  |2024-02-22T20:17:05.3635446Z|678cc574-e76f-41f6-8e3d-48777b689e30|32ec41e1-8a79-43c8-9951-a1410f89358b|4b08593c-fdae-476b-bce0-f8e3c078ba37|db357add-6cbc-41d6-900f-d4ae17bb3be7|c5b5b96d-7fc1-4c8c-8623-a459e4bc6765|\n|10223.0    |37.0           |100.0    |1.0            |3965.66|2/20/2004 0:00  |Shipped|1.0   |2.0     |2004.0 |Motorcycles|95.0|S10_1678   |Australian Collectors, Co.|03 9520 4555    |636 St Kilda Road            |Level 3     |Melbourne    |Victoria|3004.0    |Australia|APAC     |Ferguson       |Peter           |Medium  |2024-02-22T20:17:05.3635446Z|3c89688b-38d1-4b6d-85f5-ae43aab4205b|32ec41e1-8a79-43c8-9951-a1410f89358b|4b08593c-fdae-476b-bce0-f8e3c078ba37|db357add-6cbc-41d6-900f-d4ae17bb3be7|633afe15-7174-4328-8f47-9b514ce058f2|\n|10159.0    |49.0           |100.0    |14.0           |5205.27|10/10/2003 00:00|Shipped|4.0   |10.0    |2003.0 |Motorcycles|95.0|S10_1678   |Corporate Gift Ideas Co.  |6505551386      |7734 Strong St.              |null        |San Francisco|CA      |null      |USA      |NA       |Brown          |Julie           |Medium  |2024-02-22T20:17:05.3635446Z|678cc574-e76f-41f6-8e3d-48777b689e30|32ec41e1-8a79-43c8-9951-a1410f89358b|4b08593c-fdae-476b-bce0-f8e3c078ba37|db357add-6cbc-41d6-900f-d4ae17bb3be7|345b1a31-9f13-4dc8-95be-4f01d674f9c2|\n|10168.0    |36.0           |96.66    |1.0            |3479.76|10/28/2003 0:00 |Shipped|4.0   |10.0    |2003.0 |Motorcycles|95.0|S10_1678   |Technics Stores Inc.      |6505556809      |9408 Furth Circle            |null        |Burlingame   |CA      |94217.0   |USA      |NA       |Hirano         |Juri            |Medium  |2024-02-22T20:17:05.3635446Z|678cc574-e76f-41f6-8e3d-48777b689e30|32ec41e1-8a79-43c8-9951-a1410f89358b|4b08593c-fdae-476b-bce0-f8e3c078ba37|db357add-6cbc-41d6-900f-d4ae17bb3be7|3ef6ddc9-1b11-4bcc-bc17-99cf8d39f3a3|\n|10318.0    |46.0           |94.74    |1.0            |4358.04|11/02/2004 00:00|Shipped|4.0   |11.0    |2004.0 |Motorcycles|95.0|S10_1678   |Diecast Classics Inc.     |2155551555      |7586 Pompton St.             |null        |Allentown    |PA      |70267.0   |USA      |NA       |Yu             |Kyung           |Medium  |2024-02-22T20:17:05.3635446Z|678cc574-e76f-41f6-8e3d-48777b689e30|32ec41e1-8a79-43c8-9951-a1410f89358b|4b08593c-fdae-476b-bce0-f8e3c078ba37|db357add-6cbc-41d6-900f-d4ae17bb3be7|a380763e-045d-423e-8601-79d571e2cd74|\n|10263.0    |34.0           |100.0    |2.0            |3676.76|6/28/2004 0:00  |Shipped|2.0   |6.0     |2004.0 |Motorcycles|95.0|S10_1678   |Gift Depot Inc.           |2035552570      |25593 South Bay Ln.          |null        |Bridgewater  |CT      |97562.0   |USA      |NA       |King           |Julie           |Medium  |2024-02-22T20:17:05.3635446Z|678cc574-e76f-41f6-8e3d-48777b689e30|32ec41e1-8a79-43c8-9951-a1410f89358b|4b08593c-fdae-476b-bce0-f8e3c078ba37|db357add-6cbc-41d6-900f-d4ae17bb3be7|fefd930e-c9f2-43b0-9e1c-20d39c3ac2a3|\n|10107.0    |30.0           |95.7     |2.0            |2871.0 |2/24/2003 0:00  |Shipped|1.0   |2.0     |2003.0 |Motorcycles|95.0|S10_1678   |Land of Toys Inc.         |2125557818      |897 Long Airport Avenue      |null        |NYC          |NY      |10022.0   |USA      |NA       |Yu             |Kwai            |Small   |2024-02-22T20:17:05.3635446Z|678cc574-e76f-41f6-8e3d-48777b689e30|32ec41e1-8a79-43c8-9951-a1410f89358b|b0701106-15e6-4839-98ef-1aed8c4b0fe3|db357add-6cbc-41d6-900f-d4ae17bb3be7|25ede9d8-85a5-4b78-81b1-7edf8a089d82|\n|10329.0    |42.0           |100.0    |1.0            |4396.14|11/15/2004 0:00 |Shipped|4.0   |11.0    |2004.0 |Motorcycles|95.0|S10_1678   |Land of Toys Inc.         |2125557818      |897 Long Airport Avenue      |null        |NYC          |NY      |10022.0   |USA      |NA       |Yu             |Kwai            |Medium  |2024-02-22T20:17:05.3635446Z|678cc574-e76f-41f6-8e3d-48777b689e30|32ec41e1-8a79-43c8-9951-a1410f89358b|4b08593c-fdae-476b-bce0-f8e3c078ba37|db357add-6cbc-41d6-900f-d4ae17bb3be7|25ede9d8-85a5-4b78-81b1-7edf8a089d82|\n|10251.0    |28.0           |100.0    |2.0            |3188.64|5/18/2004 0:00  |Shipped|2.0   |5.0     |2004.0 |Motorcycles|95.0|S10_1678   |Tekni Collectables Inc.   |2015559350      |7476 Moss Rd.                |null        |Newark       |NJ      |94019.0   |USA      |NA       |Brown          |William         |Medium  |2024-02-22T20:17:05.3635446Z|678cc574-e76f-41f6-8e3d-48777b689e30|32ec41e1-8a79-43c8-9951-a1410f89358b|4b08593c-fdae-476b-bce0-f8e3c078ba37|db357add-6cbc-41d6-900f-d4ae17bb3be7|fad44b05-7b8c-4d2e-ae78-0f22748b0a16|\n|10341.0    |41.0           |100.0    |9.0            |7737.93|11/24/2004 0:00 |Shipped|4.0   |11.0    |2004.0 |Motorcycles|95.0|S10_1678   |Salzburg Collectables     |6562-9555       |Geislweg 14                  |null        |Salzburg     |null    |5020.0    |Austria  |EMEA     |Pipps          |Georg           |Large   |2024-02-22T20:17:05.3635446Z|062f73e9-e0bb-4b06-a1f4-35a01e7f2049|32ec41e1-8a79-43c8-9951-a1410f89358b|037f7df5-80e2-4dc1-a97a-7775a08ea9e8|db357add-6cbc-41d6-900f-d4ae17bb3be7|b14e9e41-765a-4aca-9f89-10e5c1177c34|\n|10309.0    |41.0           |100.0    |5.0            |4394.38|10/15/2004 0:00 |Shipped|4.0   |10.0    |2004.0 |Motorcycles|95.0|S10_1678   |Baane Mini Imports        |07-98 9555      |Erling Skakkes gate 78       |null        |Stavern      |null    |4110.0    |Norway   |EMEA     |Bergulfsen     |Jonas           |Medium  |2024-02-22T20:17:05.3635446Z|41730263-f621-407f-9898-7bf66a576c61|32ec41e1-8a79-43c8-9951-a1410f89358b|4b08593c-fdae-476b-bce0-f8e3c078ba37|db357add-6cbc-41d6-900f-d4ae17bb3be7|eca8adc2-7aa1-465f-9b95-0e2f588f71cb|\n|10188.0    |48.0           |100.0    |1.0            |5512.32|11/18/2003 0:00 |Shipped|4.0   |11.0    |2003.0 |Motorcycles|95.0|S10_1678   |Herkku Gifts              |+47 2267 3215   |Drammen 121, PR 744 Sentrum  |null        |Bergen       |null    |null      |Norway   |EMEA     |Oeztan         |Veysel          |Medium  |2024-02-22T20:17:05.3635446Z|41730263-f621-407f-9898-7bf66a576c61|32ec41e1-8a79-43c8-9951-a1410f89358b|4b08593c-fdae-476b-bce0-f8e3c078ba37|db357add-6cbc-41d6-900f-d4ae17bb3be7|500f56fd-a8ec-4e85-8a7c-3a4c923f6b09|\n+-----------+---------------+---------+---------------+-------+----------------+-------+------+--------+-------+-----------+----+-----------+--------------------------+----------------+-----------------------------+------------+-------------+--------+----------+---------+---------+---------------+----------------+--------+----------------------------+------------------------------------+------------------------------------+------------------------------------+------------------------------------+------------------------------------+\nonly showing top 20 rows\n\n"
          ]
        }
      ],
      "metadata": {
        "jupyter": {
          "source_hidden": false,
          "outputs_hidden": false
        },
        "nteract": {
          "transient": {
            "deleting": false
          }
        }
      },
      "source": [
        "#CUSTOMER\r\n",
        "df_dim_CUSTOMER = DF_SourceRaw.select(\"CUSTOMERNAME\", \"PHONE\",\"ADDRESSLINE1\", \"ADDRESSLINE2\", \"CITY\", \"STATE\", \"POSTALCODE\", \"CONTACTLASTNAME\", \"CONTACTFIRSTNAME\")\r\n",
        "#df_dim_CUSTOMER.show(3)\r\n",
        "\r\n",
        "df_dim_CUSTOMER = df_dim_CUSTOMER.distinct()\r\n",
        "df_dim_CUSTOMER.show(3)\r\n",
        "\r\n",
        "df_dim_CUSTOMER.createOrReplaceTempView(\"DimCustomer_Temp\")\r\n",
        "\r\n",
        "sql_str=\"select CUSTOMERNAME, PHONE,ADDRESSLINE1, ADDRESSLINE2, CITY, STATE, POSTALCODE, CONTACTLASTNAME,CONTACTFIRSTNAME, uuid() as Customer_ID from DimCustomer_Temp\" \r\n",
        "\r\n",
        "\r\n",
        "df_dim_CUSTOMER = spark.sql(sql_str)\r\n",
        "df_dim_CUSTOMER.show(3)\r\n",
        "\r\n",
        "\r\n",
        "from pyspark.sql.functions import col\r\n",
        "DF_SourceRaw = DF_SourceRaw.join(df_dim_CUSTOMER, (DF_SourceRaw.CUSTOMERNAME == df_dim_CUSTOMER.CUSTOMERNAME),\"leftouter\" )\\\r\n",
        "    .select(DF_SourceRaw[\"*\"],col(\"Customer_ID\"))\r\n",
        "    \r\n",
        "\r\n",
        "DF_SourceRaw.show(truncate=False)"
      ]
    },
    {
      "cell_type": "code",
      "execution_count": 36,
      "outputs": [
        {
          "output_type": "display_data",
          "data": {
            "application/vnd.livy.statement-meta+json": {
              "spark_pool": "preranasmall",
              "session_id": "42",
              "statement_id": 28,
              "state": "finished",
              "livy_statement_state": "available",
              "queued_time": "2024-02-22T22:16:35.9880835Z",
              "session_start_time": null,
              "execution_start_time": "2024-02-22T22:16:53.9898568Z",
              "execution_finish_time": "2024-02-22T22:16:54.1717012Z",
              "spark_jobs": null,
              "parent_msg_id": "c793b814-78e5-4699-b60d-51bf246fcb33"
            },
            "text/plain": "StatementMeta(preranasmall, 42, 28, Finished, Available)"
          },
          "metadata": {}
        }
      ],
      "metadata": {
        "jupyter": {
          "source_hidden": false,
          "outputs_hidden": false
        },
        "nteract": {
          "transient": {
            "deleting": false
          }
        }
      },
      "source": [
        "#DF_SourceRaw.dtypes"
      ]
    },
    {
      "cell_type": "code",
      "execution_count": 37,
      "outputs": [
        {
          "output_type": "display_data",
          "data": {
            "application/vnd.livy.statement-meta+json": {
              "spark_pool": "preranasmall",
              "session_id": "42",
              "statement_id": 29,
              "state": "finished",
              "livy_statement_state": "available",
              "queued_time": "2024-02-22T22:16:36.1656645Z",
              "session_start_time": null,
              "execution_start_time": "2024-02-22T22:16:54.3075173Z",
              "execution_finish_time": "2024-02-22T22:16:54.4983232Z",
              "spark_jobs": null,
              "parent_msg_id": "c1943729-4dc8-4029-aaed-6c2ee21b077b"
            },
            "text/plain": "StatementMeta(preranasmall, 42, 29, Finished, Available)"
          },
          "metadata": {}
        }
      ],
      "metadata": {
        "jupyter": {
          "source_hidden": false,
          "outputs_hidden": false
        },
        "nteract": {
          "transient": {
            "deleting": false
          }
        }
      },
      "source": [
        "# from pyspark.sql.functions import expr\r\n",
        "# DF_SourceRaw1 = DF_SourceRaw.withColumn('ORDERDATE1', expr(\"to_date(ORDERDATE, 'yyyyMMdd')\"))\r\n",
        "# #expr(\"to_date(value, format)\"))\r\n",
        "# DF_SourceRaw1.show(5)\r\n",
        ""
      ]
    },
    {
      "cell_type": "code",
      "execution_count": 38,
      "outputs": [
        {
          "output_type": "display_data",
          "data": {
            "application/vnd.livy.statement-meta+json": {
              "spark_pool": "preranasmall",
              "session_id": "42",
              "statement_id": 30,
              "state": "finished",
              "livy_statement_state": "available",
              "queued_time": "2024-02-22T22:16:36.5587929Z",
              "session_start_time": null,
              "execution_start_time": "2024-02-22T22:16:54.6396996Z",
              "execution_finish_time": "2024-02-22T22:17:00.0365592Z",
              "spark_jobs": null,
              "parent_msg_id": "b879ab87-1656-402e-a141-00c0f63e56e9"
            },
            "text/plain": "StatementMeta(preranasmall, 42, 30, Finished, Available)"
          },
          "metadata": {}
        },
        {
          "output_type": "stream",
          "name": "stdout",
          "text": [
            "+-----------+-----+\n|PRODUCTCODE| MSRP|\n+-----------+-----+\n|   S18_1749|170.0|\n|   S18_3140|136.0|\n|   S12_3990| 79.0|\n|   S32_2206| 40.0|\n|   S18_4027|143.0|\n|   S32_3522| 64.0|\n|   S24_2300|127.0|\n|  S700_2610| 72.0|\n|  S700_2047| 90.0|\n|   S18_3320| 99.0|\n|   S32_1374| 99.0|\n|   S18_4721|148.0|\n|   S18_4668| 50.0|\n|   S24_2972| 37.0|\n|   S18_4522| 87.0|\n|   S24_1046| 73.0|\n|   S24_1628| 50.0|\n|   S24_2841| 68.0|\n|   S32_4485|102.0|\n|   S18_3782| 62.0|\n+-----------+-----+\nonly showing top 20 rows\n\n+-----------+--------------------+\n|PRODUCTCODE|      Productcode_ID|\n+-----------+--------------------+\n|   S18_1749|4b6f98f3-5a64-456...|\n|   S18_3140|9b095481-8d6d-42a...|\n|   S12_3990|14c7d43e-ebed-414...|\n|   S32_2206|e5e11210-d67b-480...|\n|   S18_4027|c767bebe-a62f-433...|\n|   S32_3522|390e20b6-69a1-4d3...|\n|   S24_2300|25f41ffa-0633-49c...|\n|  S700_2610|95e180e4-b4b1-49a...|\n|  S700_2047|cbcd2bd8-8f28-4b3...|\n|   S18_3320|6cf749e3-0bfc-446...|\n|   S32_1374|ac2be4b4-6a7a-4b5...|\n|   S18_4721|e31fc240-7041-42e...|\n|   S18_4668|e95f998a-af48-44e...|\n|   S24_2972|fbb44708-d66a-461...|\n|   S18_4522|94747fb8-6f80-46e...|\n|   S24_1046|88d46fc2-be9c-4f3...|\n|   S24_1628|71420f7d-73c7-426...|\n|   S24_2841|1013c803-86da-43f...|\n|   S32_4485|3198dc84-be6e-4c9...|\n|   S18_3782|3f92644e-53ff-4f8...|\n+-----------+--------------------+\nonly showing top 20 rows\n\n+-----------+---------------+---------+---------------+-------+----------------+-------+------+--------+-------+-----------+----+-----------+--------------------------+----------------+-----------------------------+------------+-------------+--------+----------+---------+---------+---------------+----------------+--------+----------------------------+------------------------------------+------------------------------------+------------------------------------+------------------------------------+------------------------------------+------------------------------------+\n|ORDERNUMBER|QUANTITYORDERED|PRICEEACH|ORDERLINENUMBER|SALES  |ORDERDATE       |STATUS |QTR_ID|MONTH_ID|YEAR_ID|PRODUCTLINE|MSRP|PRODUCTCODE|CUSTOMERNAME              |PHONE           |ADDRESSLINE1                 |ADDRESSLINE2|CITY         |STATE   |POSTALCODE|COUNTRY  |TERRITORY|CONTACTLASTNAME|CONTACTFIRSTNAME|DEALSIZE|DateIngestedDateTime        |Country_ID                          |Status_ID                           |DEALSIZE_ID                         |PRODUCTLINE_ID                      |Customer_ID                         |Productcode_ID                      |\n+-----------+---------------+---------+---------------+-------+----------------+-------+------+--------+-------+-----------+----+-----------+--------------------------+----------------+-----------------------------+------------+-------------+--------+----------+---------+---------+---------------+----------------+--------+----------------------------+------------------------------------+------------------------------------+------------------------------------+------------------------------------+------------------------------------+------------------------------------+\n|10107.0    |30.0           |95.7     |2.0            |2871.0 |2/24/2003 0:00  |Shipped|1.0   |2.0     |2003.0 |Motorcycles|95.0|S10_1678   |Land of Toys Inc.         |2125557818      |897 Long Airport Avenue      |null        |NYC          |NY      |10022.0   |USA      |NA       |Yu             |Kwai            |Small   |2024-02-22T20:17:05.3635446Z|678cc574-e76f-41f6-8e3d-48777b689e30|32ec41e1-8a79-43c8-9951-a1410f89358b|b0701106-15e6-4839-98ef-1aed8c4b0fe3|db357add-6cbc-41d6-900f-d4ae17bb3be7|25ede9d8-85a5-4b78-81b1-7edf8a089d82|7786d80e-62ea-4c27-b703-3a709d565813|\n|10121.0    |34.0           |81.35    |5.0            |2765.9 |05/07/2003 00:00|Shipped|2.0   |5.0     |2003.0 |Motorcycles|95.0|S10_1678   |Reims Collectables        |26.47.1555      |59 rue de l'Abbaye           |null        |Reims        |null    |51100.0   |France   |EMEA     |Henriot        |Paul            |Small   |2024-02-22T20:17:05.3635446Z|7dd88d54-38c0-4d6f-baad-7bd14c695715|32ec41e1-8a79-43c8-9951-a1410f89358b|b0701106-15e6-4839-98ef-1aed8c4b0fe3|db357add-6cbc-41d6-900f-d4ae17bb3be7|2a4d4390-e498-4f70-93f3-c04fad54e677|7786d80e-62ea-4c27-b703-3a709d565813|\n|10134.0    |41.0           |94.74    |2.0            |3884.34|07/01/2003 00:00|Shipped|3.0   |7.0     |2003.0 |Motorcycles|95.0|S10_1678   |Lyon Souveniers           |+33 1 46 62 7555|27 rue du Colonel Pierre Avia|null        |Paris        |null    |75508.0   |France   |EMEA     |Da Cunha       |Daniel          |Medium  |2024-02-22T20:17:05.3635446Z|7dd88d54-38c0-4d6f-baad-7bd14c695715|32ec41e1-8a79-43c8-9951-a1410f89358b|4b08593c-fdae-476b-bce0-f8e3c078ba37|db357add-6cbc-41d6-900f-d4ae17bb3be7|17eda75d-1498-43d8-a467-776c901686ee|7786d80e-62ea-4c27-b703-3a709d565813|\n|10145.0    |45.0           |83.26    |6.0            |3746.7 |8/25/2003 0:00  |Shipped|3.0   |8.0     |2003.0 |Motorcycles|95.0|S10_1678   |Toys4GrownUps.com         |6265557265      |78934 Hillside Dr.           |null        |Pasadena     |CA      |90003.0   |USA      |NA       |Young          |Julie           |Medium  |2024-02-22T20:17:05.3635446Z|678cc574-e76f-41f6-8e3d-48777b689e30|32ec41e1-8a79-43c8-9951-a1410f89358b|4b08593c-fdae-476b-bce0-f8e3c078ba37|db357add-6cbc-41d6-900f-d4ae17bb3be7|c5b5b96d-7fc1-4c8c-8623-a459e4bc6765|7786d80e-62ea-4c27-b703-3a709d565813|\n|10159.0    |49.0           |100.0    |14.0           |5205.27|10/10/2003 00:00|Shipped|4.0   |10.0    |2003.0 |Motorcycles|95.0|S10_1678   |Corporate Gift Ideas Co.  |6505551386      |7734 Strong St.              |null        |San Francisco|CA      |null      |USA      |NA       |Brown          |Julie           |Medium  |2024-02-22T20:17:05.3635446Z|678cc574-e76f-41f6-8e3d-48777b689e30|32ec41e1-8a79-43c8-9951-a1410f89358b|4b08593c-fdae-476b-bce0-f8e3c078ba37|db357add-6cbc-41d6-900f-d4ae17bb3be7|345b1a31-9f13-4dc8-95be-4f01d674f9c2|7786d80e-62ea-4c27-b703-3a709d565813|\n|10168.0    |36.0           |96.66    |1.0            |3479.76|10/28/2003 0:00 |Shipped|4.0   |10.0    |2003.0 |Motorcycles|95.0|S10_1678   |Technics Stores Inc.      |6505556809      |9408 Furth Circle            |null        |Burlingame   |CA      |94217.0   |USA      |NA       |Hirano         |Juri            |Medium  |2024-02-22T20:17:05.3635446Z|678cc574-e76f-41f6-8e3d-48777b689e30|32ec41e1-8a79-43c8-9951-a1410f89358b|4b08593c-fdae-476b-bce0-f8e3c078ba37|db357add-6cbc-41d6-900f-d4ae17bb3be7|3ef6ddc9-1b11-4bcc-bc17-99cf8d39f3a3|7786d80e-62ea-4c27-b703-3a709d565813|\n|10180.0    |29.0           |86.13    |9.0            |2497.77|11/11/2003 00:00|Shipped|4.0   |11.0    |2003.0 |Motorcycles|95.0|S10_1678   |Daedalus Designs Imports  |20.16.1555      |184, chausse de Tournai      |null        |Lille        |null    |59000.0   |France   |EMEA     |Rance          |Martine         |Small   |2024-02-22T20:17:05.3635446Z|7dd88d54-38c0-4d6f-baad-7bd14c695715|32ec41e1-8a79-43c8-9951-a1410f89358b|b0701106-15e6-4839-98ef-1aed8c4b0fe3|db357add-6cbc-41d6-900f-d4ae17bb3be7|eed01554-8722-4d2a-be4c-78149509c527|7786d80e-62ea-4c27-b703-3a709d565813|\n|10188.0    |48.0           |100.0    |1.0            |5512.32|11/18/2003 0:00 |Shipped|4.0   |11.0    |2003.0 |Motorcycles|95.0|S10_1678   |Herkku Gifts              |+47 2267 3215   |Drammen 121, PR 744 Sentrum  |null        |Bergen       |null    |null      |Norway   |EMEA     |Oeztan         |Veysel          |Medium  |2024-02-22T20:17:05.3635446Z|41730263-f621-407f-9898-7bf66a576c61|32ec41e1-8a79-43c8-9951-a1410f89358b|4b08593c-fdae-476b-bce0-f8e3c078ba37|db357add-6cbc-41d6-900f-d4ae17bb3be7|500f56fd-a8ec-4e85-8a7c-3a4c923f6b09|7786d80e-62ea-4c27-b703-3a709d565813|\n|10201.0    |22.0           |98.57    |2.0            |2168.54|12/01/2003 00:00|Shipped|4.0   |12.0    |2003.0 |Motorcycles|95.0|S10_1678   |Mini Wheels Co.           |6505555787      |5557 North Pendale Street    |null        |San Francisco|CA      |null      |USA      |NA       |Murphy         |Julie           |Small   |2024-02-22T20:17:05.3635446Z|678cc574-e76f-41f6-8e3d-48777b689e30|32ec41e1-8a79-43c8-9951-a1410f89358b|b0701106-15e6-4839-98ef-1aed8c4b0fe3|db357add-6cbc-41d6-900f-d4ae17bb3be7|6766e6dd-4811-4f51-b29d-2887648460d0|7786d80e-62ea-4c27-b703-3a709d565813|\n|10211.0    |41.0           |100.0    |14.0           |4708.44|1/15/2004 0:00  |Shipped|1.0   |1.0     |2004.0 |Motorcycles|95.0|S10_1678   |Auto Canal Petit          |(1) 47.55.6555  |25, rue Lauriston            |null        |Paris        |null    |75016.0   |France   |EMEA     |Perrier        |Dominique       |Medium  |2024-02-22T20:17:05.3635446Z|7dd88d54-38c0-4d6f-baad-7bd14c695715|32ec41e1-8a79-43c8-9951-a1410f89358b|4b08593c-fdae-476b-bce0-f8e3c078ba37|db357add-6cbc-41d6-900f-d4ae17bb3be7|f48d258b-3196-4f5b-82bc-5719258ee5b9|7786d80e-62ea-4c27-b703-3a709d565813|\n|10223.0    |37.0           |100.0    |1.0            |3965.66|2/20/2004 0:00  |Shipped|1.0   |2.0     |2004.0 |Motorcycles|95.0|S10_1678   |Australian Collectors, Co.|03 9520 4555    |636 St Kilda Road            |Level 3     |Melbourne    |Victoria|3004.0    |Australia|APAC     |Ferguson       |Peter           |Medium  |2024-02-22T20:17:05.3635446Z|3c89688b-38d1-4b6d-85f5-ae43aab4205b|32ec41e1-8a79-43c8-9951-a1410f89358b|4b08593c-fdae-476b-bce0-f8e3c078ba37|db357add-6cbc-41d6-900f-d4ae17bb3be7|633afe15-7174-4328-8f47-9b514ce058f2|7786d80e-62ea-4c27-b703-3a709d565813|\n|10237.0    |23.0           |100.0    |7.0            |2333.12|04/05/2004 00:00|Shipped|2.0   |4.0     |2004.0 |Motorcycles|95.0|S10_1678   |Vitachrome Inc.           |2125551500      |2678 Kingston Rd.            |Suite 101   |NYC          |NY      |10022.0   |USA      |NA       |Frick          |Michael         |Small   |2024-02-22T20:17:05.3635446Z|678cc574-e76f-41f6-8e3d-48777b689e30|32ec41e1-8a79-43c8-9951-a1410f89358b|b0701106-15e6-4839-98ef-1aed8c4b0fe3|db357add-6cbc-41d6-900f-d4ae17bb3be7|073c1059-a34b-4b09-b2a9-d8bdf3408711|7786d80e-62ea-4c27-b703-3a709d565813|\n|10251.0    |28.0           |100.0    |2.0            |3188.64|5/18/2004 0:00  |Shipped|2.0   |5.0     |2004.0 |Motorcycles|95.0|S10_1678   |Tekni Collectables Inc.   |2015559350      |7476 Moss Rd.                |null        |Newark       |NJ      |94019.0   |USA      |NA       |Brown          |William         |Medium  |2024-02-22T20:17:05.3635446Z|678cc574-e76f-41f6-8e3d-48777b689e30|32ec41e1-8a79-43c8-9951-a1410f89358b|4b08593c-fdae-476b-bce0-f8e3c078ba37|db357add-6cbc-41d6-900f-d4ae17bb3be7|fad44b05-7b8c-4d2e-ae78-0f22748b0a16|7786d80e-62ea-4c27-b703-3a709d565813|\n|10263.0    |34.0           |100.0    |2.0            |3676.76|6/28/2004 0:00  |Shipped|2.0   |6.0     |2004.0 |Motorcycles|95.0|S10_1678   |Gift Depot Inc.           |2035552570      |25593 South Bay Ln.          |null        |Bridgewater  |CT      |97562.0   |USA      |NA       |King           |Julie           |Medium  |2024-02-22T20:17:05.3635446Z|678cc574-e76f-41f6-8e3d-48777b689e30|32ec41e1-8a79-43c8-9951-a1410f89358b|4b08593c-fdae-476b-bce0-f8e3c078ba37|db357add-6cbc-41d6-900f-d4ae17bb3be7|fefd930e-c9f2-43b0-9e1c-20d39c3ac2a3|7786d80e-62ea-4c27-b703-3a709d565813|\n|10275.0    |45.0           |92.83    |1.0            |4177.35|7/23/2004 0:00  |Shipped|3.0   |7.0     |2004.0 |Motorcycles|95.0|S10_1678   |La Rochelle Gifts         |40.67.8555      |67, rue des Cinquante Otages |null        |Nantes       |null    |44000.0   |France   |EMEA     |Labrune        |Janine          |Medium  |2024-02-22T20:17:05.3635446Z|7dd88d54-38c0-4d6f-baad-7bd14c695715|32ec41e1-8a79-43c8-9951-a1410f89358b|4b08593c-fdae-476b-bce0-f8e3c078ba37|db357add-6cbc-41d6-900f-d4ae17bb3be7|004e8d36-aeb7-4f72-844e-d536996a7a2a|7786d80e-62ea-4c27-b703-3a709d565813|\n|10285.0    |36.0           |100.0    |6.0            |4099.68|8/27/2004 0:00  |Shipped|3.0   |8.0     |2004.0 |Motorcycles|95.0|S10_1678   |Marta's Replicas Co.      |6175558555      |39323 Spinnaker Dr.          |null        |Cambridge    |MA      |51247.0   |USA      |NA       |Hernandez      |Marta           |Medium  |2024-02-22T20:17:05.3635446Z|678cc574-e76f-41f6-8e3d-48777b689e30|32ec41e1-8a79-43c8-9951-a1410f89358b|4b08593c-fdae-476b-bce0-f8e3c078ba37|db357add-6cbc-41d6-900f-d4ae17bb3be7|187bb335-edd1-49fb-9f1a-b23cad61737a|7786d80e-62ea-4c27-b703-3a709d565813|\n|10299.0    |23.0           |100.0    |9.0            |2597.39|9/30/2004 0:00  |Shipped|3.0   |9.0     |2004.0 |Motorcycles|95.0|S10_1678   |Toys of Finland, Co.      |90-224 8555     |Keskuskatu 45                |null        |Helsinki     |null    |21240.0   |Finland  |EMEA     |Karttunen      |Matti           |Small   |2024-02-22T20:17:05.3635446Z|7df51afa-1cd8-4ccd-9f58-da73d9bc8aa8|32ec41e1-8a79-43c8-9951-a1410f89358b|b0701106-15e6-4839-98ef-1aed8c4b0fe3|db357add-6cbc-41d6-900f-d4ae17bb3be7|1134deca-a292-45b5-bc15-a293f886c8d6|7786d80e-62ea-4c27-b703-3a709d565813|\n|10309.0    |41.0           |100.0    |5.0            |4394.38|10/15/2004 0:00 |Shipped|4.0   |10.0    |2004.0 |Motorcycles|95.0|S10_1678   |Baane Mini Imports        |07-98 9555      |Erling Skakkes gate 78       |null        |Stavern      |null    |4110.0    |Norway   |EMEA     |Bergulfsen     |Jonas           |Medium  |2024-02-22T20:17:05.3635446Z|41730263-f621-407f-9898-7bf66a576c61|32ec41e1-8a79-43c8-9951-a1410f89358b|4b08593c-fdae-476b-bce0-f8e3c078ba37|db357add-6cbc-41d6-900f-d4ae17bb3be7|eca8adc2-7aa1-465f-9b95-0e2f588f71cb|7786d80e-62ea-4c27-b703-3a709d565813|\n|10318.0    |46.0           |94.74    |1.0            |4358.04|11/02/2004 00:00|Shipped|4.0   |11.0    |2004.0 |Motorcycles|95.0|S10_1678   |Diecast Classics Inc.     |2155551555      |7586 Pompton St.             |null        |Allentown    |PA      |70267.0   |USA      |NA       |Yu             |Kyung           |Medium  |2024-02-22T20:17:05.3635446Z|678cc574-e76f-41f6-8e3d-48777b689e30|32ec41e1-8a79-43c8-9951-a1410f89358b|4b08593c-fdae-476b-bce0-f8e3c078ba37|db357add-6cbc-41d6-900f-d4ae17bb3be7|a380763e-045d-423e-8601-79d571e2cd74|7786d80e-62ea-4c27-b703-3a709d565813|\n|10329.0    |42.0           |100.0    |1.0            |4396.14|11/15/2004 0:00 |Shipped|4.0   |11.0    |2004.0 |Motorcycles|95.0|S10_1678   |Land of Toys Inc.         |2125557818      |897 Long Airport Avenue      |null        |NYC          |NY      |10022.0   |USA      |NA       |Yu             |Kwai            |Medium  |2024-02-22T20:17:05.3635446Z|678cc574-e76f-41f6-8e3d-48777b689e30|32ec41e1-8a79-43c8-9951-a1410f89358b|4b08593c-fdae-476b-bce0-f8e3c078ba37|db357add-6cbc-41d6-900f-d4ae17bb3be7|25ede9d8-85a5-4b78-81b1-7edf8a089d82|7786d80e-62ea-4c27-b703-3a709d565813|\n+-----------+---------------+---------+---------------+-------+----------------+-------+------+--------+-------+-----------+----+-----------+--------------------------+----------------+-----------------------------+------------+-------------+--------+----------+---------+---------+---------------+----------------+--------+----------------------------+------------------------------------+------------------------------------+------------------------------------+------------------------------------+------------------------------------+------------------------------------+\nonly showing top 20 rows\n\n"
          ]
        }
      ],
      "metadata": {
        "jupyter": {
          "source_hidden": false,
          "outputs_hidden": false
        },
        "nteract": {
          "transient": {
            "deleting": false
          }
        }
      },
      "source": [
        "#PRODUCTCODE \r\n",
        "df_dim_PRODUCTCODE = DF_SourceRaw.select(\"PRODUCTCODE\", \"MSRP\")\r\n",
        "#df_dim_PRODUCTCODE.show(3)\r\n",
        "\r\n",
        "df_dim_PRODUCTCODE = df_dim_PRODUCTCODE.distinct()\r\n",
        "df_dim_PRODUCTCODE.show()\r\n",
        "\r\n",
        "df_dim_PRODUCTCODE.createOrReplaceTempView(\"DimProductcode_Temp\")\r\n",
        "\r\n",
        "sql_str=\"select PRODUCTCODE, uuid() as Productcode_ID from DimProductcode_Temp \" \r\n",
        "\r\n",
        "\r\n",
        "df_dim_PRODUCTCODE = spark.sql(sql_str)\r\n",
        "df_dim_PRODUCTCODE.show()\r\n",
        "\r\n",
        "\r\n",
        "from pyspark.sql.functions import col\r\n",
        "\r\n",
        "DF_SourceRaw = DF_SourceRaw.join(df_dim_PRODUCTCODE, (DF_SourceRaw.PRODUCTCODE == df_dim_PRODUCTCODE.PRODUCTCODE),\"leftouter\" )\\\r\n",
        "    .select(DF_SourceRaw[\"*\"],col(\"Productcode_ID\"))\r\n",
        "    \r\n",
        "DF_SourceRaw.show(truncate=False)"
      ]
    },
    {
      "cell_type": "code",
      "execution_count": 39,
      "outputs": [
        {
          "output_type": "display_data",
          "data": {
            "application/vnd.livy.statement-meta+json": {
              "spark_pool": "preranasmall",
              "session_id": "42",
              "statement_id": 31,
              "state": "finished",
              "livy_statement_state": "available",
              "queued_time": "2024-02-22T22:16:36.8156036Z",
              "session_start_time": null,
              "execution_start_time": "2024-02-22T22:17:00.1846177Z",
              "execution_finish_time": "2024-02-22T22:17:02.9426231Z",
              "spark_jobs": null,
              "parent_msg_id": "923eefd6-b08d-4694-9ae2-f4cb9abb4940"
            },
            "text/plain": "StatementMeta(preranasmall, 42, 31, Finished, Available)"
          },
          "metadata": {}
        },
        {
          "output_type": "stream",
          "name": "stdout",
          "text": [
            "+-----------+---------------+---------+---------------+-------+----------------+----------------------------+------------------------------------+------------------------------------+------------------------------------+------------------------------------+------------------------------------+------------------------------------+\n|ORDERNUMBER|QUANTITYORDERED|PRICEEACH|ORDERLINENUMBER|SALES  |ORDERDATE       |DateIngestedDateTime        |Country_ID                          |Status_ID                           |DEALSIZE_ID                         |PRODUCTLINE_ID                      |Customer_ID                         |Productcode_ID                      |\n+-----------+---------------+---------+---------------+-------+----------------+----------------------------+------------------------------------+------------------------------------+------------------------------------+------------------------------------+------------------------------------+------------------------------------+\n|10107.0    |30.0           |95.7     |2.0            |2871.0 |2/24/2003 0:00  |2024-02-22T20:17:05.3635446Z|678cc574-e76f-41f6-8e3d-48777b689e30|32ec41e1-8a79-43c8-9951-a1410f89358b|b0701106-15e6-4839-98ef-1aed8c4b0fe3|db357add-6cbc-41d6-900f-d4ae17bb3be7|25ede9d8-85a5-4b78-81b1-7edf8a089d82|7786d80e-62ea-4c27-b703-3a709d565813|\n|10121.0    |34.0           |81.35    |5.0            |2765.9 |05/07/2003 00:00|2024-02-22T20:17:05.3635446Z|7dd88d54-38c0-4d6f-baad-7bd14c695715|32ec41e1-8a79-43c8-9951-a1410f89358b|b0701106-15e6-4839-98ef-1aed8c4b0fe3|db357add-6cbc-41d6-900f-d4ae17bb3be7|2a4d4390-e498-4f70-93f3-c04fad54e677|7786d80e-62ea-4c27-b703-3a709d565813|\n|10134.0    |41.0           |94.74    |2.0            |3884.34|07/01/2003 00:00|2024-02-22T20:17:05.3635446Z|7dd88d54-38c0-4d6f-baad-7bd14c695715|32ec41e1-8a79-43c8-9951-a1410f89358b|4b08593c-fdae-476b-bce0-f8e3c078ba37|db357add-6cbc-41d6-900f-d4ae17bb3be7|17eda75d-1498-43d8-a467-776c901686ee|7786d80e-62ea-4c27-b703-3a709d565813|\n|10145.0    |45.0           |83.26    |6.0            |3746.7 |8/25/2003 0:00  |2024-02-22T20:17:05.3635446Z|678cc574-e76f-41f6-8e3d-48777b689e30|32ec41e1-8a79-43c8-9951-a1410f89358b|4b08593c-fdae-476b-bce0-f8e3c078ba37|db357add-6cbc-41d6-900f-d4ae17bb3be7|c5b5b96d-7fc1-4c8c-8623-a459e4bc6765|7786d80e-62ea-4c27-b703-3a709d565813|\n|10159.0    |49.0           |100.0    |14.0           |5205.27|10/10/2003 00:00|2024-02-22T20:17:05.3635446Z|678cc574-e76f-41f6-8e3d-48777b689e30|32ec41e1-8a79-43c8-9951-a1410f89358b|4b08593c-fdae-476b-bce0-f8e3c078ba37|db357add-6cbc-41d6-900f-d4ae17bb3be7|345b1a31-9f13-4dc8-95be-4f01d674f9c2|7786d80e-62ea-4c27-b703-3a709d565813|\n|10168.0    |36.0           |96.66    |1.0            |3479.76|10/28/2003 0:00 |2024-02-22T20:17:05.3635446Z|678cc574-e76f-41f6-8e3d-48777b689e30|32ec41e1-8a79-43c8-9951-a1410f89358b|4b08593c-fdae-476b-bce0-f8e3c078ba37|db357add-6cbc-41d6-900f-d4ae17bb3be7|3ef6ddc9-1b11-4bcc-bc17-99cf8d39f3a3|7786d80e-62ea-4c27-b703-3a709d565813|\n|10180.0    |29.0           |86.13    |9.0            |2497.77|11/11/2003 00:00|2024-02-22T20:17:05.3635446Z|7dd88d54-38c0-4d6f-baad-7bd14c695715|32ec41e1-8a79-43c8-9951-a1410f89358b|b0701106-15e6-4839-98ef-1aed8c4b0fe3|db357add-6cbc-41d6-900f-d4ae17bb3be7|eed01554-8722-4d2a-be4c-78149509c527|7786d80e-62ea-4c27-b703-3a709d565813|\n|10188.0    |48.0           |100.0    |1.0            |5512.32|11/18/2003 0:00 |2024-02-22T20:17:05.3635446Z|41730263-f621-407f-9898-7bf66a576c61|32ec41e1-8a79-43c8-9951-a1410f89358b|4b08593c-fdae-476b-bce0-f8e3c078ba37|db357add-6cbc-41d6-900f-d4ae17bb3be7|500f56fd-a8ec-4e85-8a7c-3a4c923f6b09|7786d80e-62ea-4c27-b703-3a709d565813|\n|10201.0    |22.0           |98.57    |2.0            |2168.54|12/01/2003 00:00|2024-02-22T20:17:05.3635446Z|678cc574-e76f-41f6-8e3d-48777b689e30|32ec41e1-8a79-43c8-9951-a1410f89358b|b0701106-15e6-4839-98ef-1aed8c4b0fe3|db357add-6cbc-41d6-900f-d4ae17bb3be7|6766e6dd-4811-4f51-b29d-2887648460d0|7786d80e-62ea-4c27-b703-3a709d565813|\n|10211.0    |41.0           |100.0    |14.0           |4708.44|1/15/2004 0:00  |2024-02-22T20:17:05.3635446Z|7dd88d54-38c0-4d6f-baad-7bd14c695715|32ec41e1-8a79-43c8-9951-a1410f89358b|4b08593c-fdae-476b-bce0-f8e3c078ba37|db357add-6cbc-41d6-900f-d4ae17bb3be7|f48d258b-3196-4f5b-82bc-5719258ee5b9|7786d80e-62ea-4c27-b703-3a709d565813|\n|10223.0    |37.0           |100.0    |1.0            |3965.66|2/20/2004 0:00  |2024-02-22T20:17:05.3635446Z|3c89688b-38d1-4b6d-85f5-ae43aab4205b|32ec41e1-8a79-43c8-9951-a1410f89358b|4b08593c-fdae-476b-bce0-f8e3c078ba37|db357add-6cbc-41d6-900f-d4ae17bb3be7|633afe15-7174-4328-8f47-9b514ce058f2|7786d80e-62ea-4c27-b703-3a709d565813|\n|10237.0    |23.0           |100.0    |7.0            |2333.12|04/05/2004 00:00|2024-02-22T20:17:05.3635446Z|678cc574-e76f-41f6-8e3d-48777b689e30|32ec41e1-8a79-43c8-9951-a1410f89358b|b0701106-15e6-4839-98ef-1aed8c4b0fe3|db357add-6cbc-41d6-900f-d4ae17bb3be7|073c1059-a34b-4b09-b2a9-d8bdf3408711|7786d80e-62ea-4c27-b703-3a709d565813|\n|10251.0    |28.0           |100.0    |2.0            |3188.64|5/18/2004 0:00  |2024-02-22T20:17:05.3635446Z|678cc574-e76f-41f6-8e3d-48777b689e30|32ec41e1-8a79-43c8-9951-a1410f89358b|4b08593c-fdae-476b-bce0-f8e3c078ba37|db357add-6cbc-41d6-900f-d4ae17bb3be7|fad44b05-7b8c-4d2e-ae78-0f22748b0a16|7786d80e-62ea-4c27-b703-3a709d565813|\n|10263.0    |34.0           |100.0    |2.0            |3676.76|6/28/2004 0:00  |2024-02-22T20:17:05.3635446Z|678cc574-e76f-41f6-8e3d-48777b689e30|32ec41e1-8a79-43c8-9951-a1410f89358b|4b08593c-fdae-476b-bce0-f8e3c078ba37|db357add-6cbc-41d6-900f-d4ae17bb3be7|fefd930e-c9f2-43b0-9e1c-20d39c3ac2a3|7786d80e-62ea-4c27-b703-3a709d565813|\n|10275.0    |45.0           |92.83    |1.0            |4177.35|7/23/2004 0:00  |2024-02-22T20:17:05.3635446Z|7dd88d54-38c0-4d6f-baad-7bd14c695715|32ec41e1-8a79-43c8-9951-a1410f89358b|4b08593c-fdae-476b-bce0-f8e3c078ba37|db357add-6cbc-41d6-900f-d4ae17bb3be7|004e8d36-aeb7-4f72-844e-d536996a7a2a|7786d80e-62ea-4c27-b703-3a709d565813|\n|10285.0    |36.0           |100.0    |6.0            |4099.68|8/27/2004 0:00  |2024-02-22T20:17:05.3635446Z|678cc574-e76f-41f6-8e3d-48777b689e30|32ec41e1-8a79-43c8-9951-a1410f89358b|4b08593c-fdae-476b-bce0-f8e3c078ba37|db357add-6cbc-41d6-900f-d4ae17bb3be7|187bb335-edd1-49fb-9f1a-b23cad61737a|7786d80e-62ea-4c27-b703-3a709d565813|\n|10299.0    |23.0           |100.0    |9.0            |2597.39|9/30/2004 0:00  |2024-02-22T20:17:05.3635446Z|7df51afa-1cd8-4ccd-9f58-da73d9bc8aa8|32ec41e1-8a79-43c8-9951-a1410f89358b|b0701106-15e6-4839-98ef-1aed8c4b0fe3|db357add-6cbc-41d6-900f-d4ae17bb3be7|1134deca-a292-45b5-bc15-a293f886c8d6|7786d80e-62ea-4c27-b703-3a709d565813|\n|10309.0    |41.0           |100.0    |5.0            |4394.38|10/15/2004 0:00 |2024-02-22T20:17:05.3635446Z|41730263-f621-407f-9898-7bf66a576c61|32ec41e1-8a79-43c8-9951-a1410f89358b|4b08593c-fdae-476b-bce0-f8e3c078ba37|db357add-6cbc-41d6-900f-d4ae17bb3be7|eca8adc2-7aa1-465f-9b95-0e2f588f71cb|7786d80e-62ea-4c27-b703-3a709d565813|\n|10318.0    |46.0           |94.74    |1.0            |4358.04|11/02/2004 00:00|2024-02-22T20:17:05.3635446Z|678cc574-e76f-41f6-8e3d-48777b689e30|32ec41e1-8a79-43c8-9951-a1410f89358b|4b08593c-fdae-476b-bce0-f8e3c078ba37|db357add-6cbc-41d6-900f-d4ae17bb3be7|a380763e-045d-423e-8601-79d571e2cd74|7786d80e-62ea-4c27-b703-3a709d565813|\n|10329.0    |42.0           |100.0    |1.0            |4396.14|11/15/2004 0:00 |2024-02-22T20:17:05.3635446Z|678cc574-e76f-41f6-8e3d-48777b689e30|32ec41e1-8a79-43c8-9951-a1410f89358b|4b08593c-fdae-476b-bce0-f8e3c078ba37|db357add-6cbc-41d6-900f-d4ae17bb3be7|25ede9d8-85a5-4b78-81b1-7edf8a089d82|7786d80e-62ea-4c27-b703-3a709d565813|\n+-----------+---------------+---------+---------------+-------+----------------+----------------------------+------------------------------------+------------------------------------+------------------------------------+------------------------------------+------------------------------------+------------------------------------+\nonly showing top 20 rows\n\n"
          ]
        }
      ],
      "metadata": {
        "jupyter": {
          "source_hidden": false,
          "outputs_hidden": false
        },
        "nteract": {
          "transient": {
            "deleting": false
          }
        }
      },
      "source": [
        "df_Fact_Table = DF_SourceRaw.drop('STATUS','QTR_ID','MONTH_ID','YEAR_ID','PRODUCTLINE','MSRP','PRODUCTCODE','CUSTOMERNAME','PHONE','ADDRESSLINE1','ADDRESSLINE2','CITY','STATE','POSTALCODE','COUNTRY','TERRITORY','CONTACTLASTNAME','CONTACTFIRSTNAME','DEALSIZE')\r\n",
        "\r\n",
        "\r\n",
        "df_Fact_Table.show(truncate=False)"
      ]
    },
    {
      "cell_type": "code",
      "execution_count": 41,
      "outputs": [
        {
          "output_type": "display_data",
          "data": {
            "application/vnd.livy.statement-meta+json": {
              "spark_pool": "preranasmall",
              "session_id": "42",
              "statement_id": 33,
              "state": "finished",
              "livy_statement_state": "available",
              "queued_time": "2024-02-22T22:18:19.4379406Z",
              "session_start_time": null,
              "execution_start_time": "2024-02-22T22:18:19.617749Z",
              "execution_finish_time": "2024-02-22T22:18:25.6020791Z",
              "spark_jobs": null,
              "parent_msg_id": "88e2773f-c0f7-4305-86ff-26a5e27c648e"
            },
            "text/plain": "StatementMeta(preranasmall, 42, 33, Finished, Available)"
          },
          "metadata": {}
        },
        {
          "output_type": "stream",
          "name": "stdout",
          "text": [
            "abfss://casestudy@preranastorage007.dfs.core.windows.net/curated/DimProductCode\nfull load\n"
          ]
        }
      ],
      "metadata": {
        "jupyter": {
          "source_hidden": false,
          "outputs_hidden": false
        },
        "nteract": {
          "transient": {
            "deleting": false
          }
        }
      },
      "source": [
        "CuratedContainerName = \"xyz\"\r\n",
        "\r\n",
        "RawContainerName = 'xyz'\r\n",
        "StorageAccountName = RawStorageAccountName\r\n",
        "CuratedFolderNameSink = 'curated/DimProductCode'\r\n",
        "\r\n",
        "from delta.tables import *\r\n",
        "from pyspark.sql.functions import *\r\n",
        " \r\n",
        "\r\n",
        "\r\n",
        "CuratedADLSPath = 'abfss://%s@%s.dfs.core.windows.net/%s' % (CuratedContainerName, StorageAccountName, CuratedFolderNameSink)\r\n",
        "print(CuratedADLSPath)\r\n",
        "print(\"full load\")\r\n",
        "df_dim_PRODUCTCODE.write.format(\"delta\")\\\r\n",
        "    .mode(\"overwrite\")\\\r\n",
        "    .option(\"mergeSchema\", \"false\")\\\r\n",
        "    .save(CuratedADLSPath)"
      ]
    },
    {
      "cell_type": "code",
      "execution_count": 42,
      "outputs": [
        {
          "output_type": "display_data",
          "data": {
            "application/vnd.livy.statement-meta+json": {
              "spark_pool": "preranasmall",
              "session_id": "42",
              "statement_id": 34,
              "state": "finished",
              "livy_statement_state": "available",
              "queued_time": "2024-02-22T22:18:31.2026874Z",
              "session_start_time": null,
              "execution_start_time": "2024-02-22T22:18:31.3227745Z",
              "execution_finish_time": "2024-02-22T22:18:35.3064212Z",
              "spark_jobs": null,
              "parent_msg_id": "31862b3a-4e3e-45d2-a479-e7e713cd83c2"
            },
            "text/plain": "StatementMeta(preranasmall, 42, 34, Finished, Available)"
          },
          "metadata": {}
        },
        {
          "output_type": "stream",
          "name": "stdout",
          "text": [
            "abfss://xyz@preranastorage007.dfs.core.windows.net/curated/DimCUSTOMER\nfull load\n"
          ]
        }
      ],
      "metadata": {
        "jupyter": {
          "source_hidden": false,
          "outputs_hidden": false
        },
        "nteract": {
          "transient": {
            "deleting": false
          }
        }
      },
      "source": [
        "CuratedContainerName = \"xyz\"\r\n",
        "\r\n",
        "RawContainerName = 'xyz'\r\n",
        "StorageAccountName = RawStorageAccountName\r\n",
        "CuratedFolderNameSink = 'curated/DimCUSTOMER'\r\n",
        "\r\n",
        "from delta.tables import *\r\n",
        "from pyspark.sql.functions import *\r\n",
        " \r\n",
        "\r\n",
        "\r\n",
        "CuratedADLSPath = 'abfss://%s@%s.dfs.core.windows.net/%s' % (CuratedContainerName, StorageAccountName, CuratedFolderNameSink)\r\n",
        "print(CuratedADLSPath)\r\n",
        "print(\"full load\")\r\n",
        "df_dim_CUSTOMER.write.format(\"delta\")\\\r\n",
        "    .mode(\"overwrite\")\\\r\n",
        "    .option(\"mergeSchema\", \"false\")\\\r\n",
        "    .save(CuratedADLSPath)"
      ]
    },
    {
      "cell_type": "code",
      "execution_count": 43,
      "outputs": [
        {
          "output_type": "display_data",
          "data": {
            "application/vnd.livy.statement-meta+json": {
              "spark_pool": "preranasmall",
              "session_id": "42",
              "statement_id": 35,
              "state": "finished",
              "livy_statement_state": "available",
              "queued_time": "2024-02-22T22:18:31.2736604Z",
              "session_start_time": null,
              "execution_start_time": "2024-02-22T22:18:35.5189102Z",
              "execution_finish_time": "2024-02-22T22:18:38.3220671Z",
              "spark_jobs": null,
              "parent_msg_id": "ec78ba59-a21c-4a93-bcb7-a358c0109ed8"
            },
            "text/plain": "StatementMeta(preranasmall, 42, 35, Finished, Available)"
          },
          "metadata": {}
        },
        {
          "output_type": "stream",
          "name": "stdout",
          "text": [
            "abfss://xyz@preranastorage007.dfs.core.windows.net/curated/DimPRODUCTLINE\nfull load\n"
          ]
        }
      ],
      "metadata": {
        "jupyter": {
          "source_hidden": false,
          "outputs_hidden": false
        },
        "nteract": {
          "transient": {
            "deleting": false
          }
        }
      },
      "source": [
        "CuratedContainerName = \"xyz\"\r\n",
        "\r\n",
        "RawContainerName = 'xyz'\r\n",
        "StorageAccountName = RawStorageAccountName\r\n",
        "CuratedFolderNameSink = 'curated/DimPRODUCTLINE'\r\n",
        "\r\n",
        "from delta.tables import *\r\n",
        "from pyspark.sql.functions import *\r\n",
        " \r\n",
        "\r\n",
        "\r\n",
        "CuratedADLSPath = 'abfss://%s@%s.dfs.core.windows.net/%s' % (CuratedContainerName, StorageAccountName, CuratedFolderNameSink)\r\n",
        "print(CuratedADLSPath)\r\n",
        "print(\"full load\")\r\n",
        "df_dim_PRODUCTLINE.write.format(\"delta\")\\\r\n",
        "    .mode(\"overwrite\")\\\r\n",
        "    .option(\"mergeSchema\", \"false\")\\\r\n",
        "    .save(CuratedADLSPath)"
      ]
    },
    {
      "cell_type": "code",
      "execution_count": 44,
      "outputs": [
        {
          "output_type": "display_data",
          "data": {
            "application/vnd.livy.statement-meta+json": {
              "spark_pool": "preranasmall",
              "session_id": "42",
              "statement_id": 36,
              "state": "finished",
              "livy_statement_state": "available",
              "queued_time": "2024-02-22T22:18:31.3555489Z",
              "session_start_time": null,
              "execution_start_time": "2024-02-22T22:18:38.4607611Z",
              "execution_finish_time": "2024-02-22T22:18:41.2746949Z",
              "spark_jobs": null,
              "parent_msg_id": "0c5d3057-c13b-499d-ad76-4bdb3d0cc1c4"
            },
            "text/plain": "StatementMeta(preranasmall, 42, 36, Finished, Available)"
          },
          "metadata": {}
        },
        {
          "output_type": "stream",
          "name": "stdout",
          "text": [
            "abfss://casestudy@preranastorage007.dfs.core.windows.net/curated/DimDEALSIZE\nfull load\n"
          ]
        }
      ],
      "metadata": {
        "jupyter": {
          "source_hidden": false,
          "outputs_hidden": false
        },
        "nteract": {
          "transient": {
            "deleting": false
          }
        }
      },
      "source": [
        "CuratedContainerName = \"xyz\"\r\n",
        "\r\n",
        "RawContainerName = 'xyz'\r\n",
        "StorageAccountName = RawStorageAccountName\r\n",
        "CuratedFolderNameSink = 'curated/DimDEALSIZE'\r\n",
        "\r\n",
        "from delta.tables import *\r\n",
        "from pyspark.sql.functions import *\r\n",
        " \r\n",
        "\r\n",
        "\r\n",
        "CuratedADLSPath = 'abfss://%s@%s.dfs.core.windows.net/%s' % (CuratedContainerName, StorageAccountName, CuratedFolderNameSink)\r\n",
        "print(CuratedADLSPath)\r\n",
        "print(\"full load\")\r\n",
        "df_dim_DEALSIZE.write.format(\"delta\")\\\r\n",
        "    .mode(\"overwrite\")\\\r\n",
        "    .option(\"mergeSchema\", \"false\")\\\r\n",
        "    .save(CuratedADLSPath)"
      ]
    },
    {
      "cell_type": "code",
      "execution_count": 45,
      "outputs": [
        {
          "output_type": "display_data",
          "data": {
            "application/vnd.livy.statement-meta+json": {
              "spark_pool": "preranasmall",
              "session_id": "42",
              "statement_id": 37,
              "state": "finished",
              "livy_statement_state": "available",
              "queued_time": "2024-02-22T22:18:31.7431748Z",
              "session_start_time": null,
              "execution_start_time": "2024-02-22T22:18:41.4223714Z",
              "execution_finish_time": "2024-02-22T22:18:44.2274124Z",
              "spark_jobs": null,
              "parent_msg_id": "c8470a7c-8c60-4b9b-a9be-a628b8cdbffb"
            },
            "text/plain": "StatementMeta(preranasmall, 42, 37, Finished, Available)"
          },
          "metadata": {}
        },
        {
          "output_type": "stream",
          "name": "stdout",
          "text": [
            "abfss://xyz@preranastorage007.dfs.core.windows.net/curated/DimSTATUS\nfull load\n"
          ]
        }
      ],
      "metadata": {
        "jupyter": {
          "source_hidden": false,
          "outputs_hidden": false
        },
        "nteract": {
          "transient": {
            "deleting": false
          }
        }
      },
      "source": [
        "CuratedContainerName = \"xyz\"\r\n",
        "\r\n",
        "RawContainerName = 'xyz'\r\n",
        "StorageAccountName = RawStorageAccountName\r\n",
        "CuratedFolderNameSink = 'curated/DimSTATUS'\r\n",
        "\r\n",
        "from delta.tables import *\r\n",
        "from pyspark.sql.functions import *\r\n",
        " \r\n",
        "\r\n",
        "\r\n",
        "CuratedADLSPath = 'abfss://%s@%s.dfs.core.windows.net/%s' % (CuratedContainerName, StorageAccountName, CuratedFolderNameSink)\r\n",
        "print(CuratedADLSPath)\r\n",
        "print(\"full load\")\r\n",
        "df_dim_STATUS.write.format(\"delta\")\\\r\n",
        "    .mode(\"overwrite\")\\\r\n",
        "    .option(\"mergeSchema\", \"false\")\\\r\n",
        "    .save(CuratedADLSPath)"
      ]
    },
    {
      "cell_type": "code",
      "execution_count": 46,
      "outputs": [
        {
          "output_type": "display_data",
          "data": {
            "application/vnd.livy.statement-meta+json": {
              "spark_pool": "preranasmall",
              "session_id": "42",
              "statement_id": 38,
              "state": "finished",
              "livy_statement_state": "available",
              "queued_time": "2024-02-22T22:18:31.9129847Z",
              "session_start_time": null,
              "execution_start_time": "2024-02-22T22:18:44.363688Z",
              "execution_finish_time": "2024-02-22T22:18:46.2107561Z",
              "spark_jobs": null,
              "parent_msg_id": "29e573b9-11cb-40f4-b077-d786a14e9c1d"
            },
            "text/plain": "StatementMeta(preranasmall, 42, 38, Finished, Available)"
          },
          "metadata": {}
        },
        {
          "output_type": "stream",
          "name": "stdout",
          "text": [
            "abfss://casestudy@preranastorage007.dfs.core.windows.net/curated/DimCountry\nfull load\n"
          ]
        }
      ],
      "metadata": {
        "jupyter": {
          "source_hidden": false,
          "outputs_hidden": false
        },
        "nteract": {
          "transient": {
            "deleting": false
          }
        }
      },
      "source": [
        "CuratedContainerName = \"xyz\"\r\n",
        "\r\n",
        "RawContainerName = 'xyz'\r\n",
        "StorageAccountName = RawStorageAccountName\r\n",
        "CuratedFolderNameSink = 'curated/DimCountry'\r\n",
        "\r\n",
        "from delta.tables import *\r\n",
        "from pyspark.sql.functions import *\r\n",
        " \r\n",
        "\r\n",
        "\r\n",
        "CuratedADLSPath = 'abfss://%s@%s.dfs.core.windows.net/%s' % (CuratedContainerName, StorageAccountName, CuratedFolderNameSink)\r\n",
        "print(CuratedADLSPath)\r\n",
        "print(\"full load\")\r\n",
        "df_dimCountry.write.format(\"delta\")\\\r\n",
        "    .mode(\"overwrite\")\\\r\n",
        "    .option(\"mergeSchema\", \"false\")\\\r\n",
        "    .save(CuratedADLSPath)"
      ]
    },
    {
      "cell_type": "code",
      "execution_count": 47,
      "outputs": [
        {
          "output_type": "display_data",
          "data": {
            "application/vnd.livy.statement-meta+json": {
              "spark_pool": "preranasmall",
              "session_id": "42",
              "statement_id": 39,
              "state": "finished",
              "livy_statement_state": "available",
              "queued_time": "2024-02-22T22:18:32.0208624Z",
              "session_start_time": null,
              "execution_start_time": "2024-02-22T22:18:46.3678306Z",
              "execution_finish_time": "2024-02-22T22:18:51.7165226Z",
              "spark_jobs": null,
              "parent_msg_id": "eedffa49-a534-466b-9c45-f89b25951127"
            },
            "text/plain": "StatementMeta(preranasmall, 42, 39, Finished, Available)"
          },
          "metadata": {}
        },
        {
          "output_type": "stream",
          "name": "stdout",
          "text": [
            "abfss://casestudy@preranastorage007.dfs.core.windows.net/curated/Fact_Table\nfull load\n"
          ]
        }
      ],
      "metadata": {
        "jupyter": {
          "source_hidden": false,
          "outputs_hidden": false
        },
        "nteract": {
          "transient": {
            "deleting": false
          }
        }
      },
      "source": [
        "CuratedContainerName = \"xyz\"\r\n",
        "\r\n",
        "RawContainerName = 'xyz'\r\n",
        "StorageAccountName = RawStorageAccountName\r\n",
        "CuratedFolderNameSink = 'curated/Fact_Table'\r\n",
        "\r\n",
        "from delta.tables import *\r\n",
        "from pyspark.sql.functions import *\r\n",
        " \r\n",
        "\r\n",
        "\r\n",
        "CuratedADLSPath = 'abfss://%s@%s.dfs.core.windows.net/%s' % (CuratedContainerName, StorageAccountName, CuratedFolderNameSink)\r\n",
        "print(CuratedADLSPath)\r\n",
        "print(\"full load\")\r\n",
        "df_Fact_Table.write.format(\"delta\")\\\r\n",
        "    .mode(\"overwrite\")\\\r\n",
        "    .option(\"mergeSchema\", \"false\")\\\r\n",
        "    .save(CuratedADLSPath)"
      ]
    }
  ]
}
